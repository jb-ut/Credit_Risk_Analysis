{
  "nbformat": 4,
  "nbformat_minor": 0,
  "metadata": {
    "colab": {
      "name": "credit_risk_resampling.ipynb",
      "provenance": [],
      "authorship_tag": "ABX9TyP2rxI++kM9FpjMSbL2oj4R"
    },
    "kernelspec": {
      "display_name": "Python 3",
      "name": "python3"
    },
    "language_info": {
      "name": "python"
    }
  },
  "cells": [
    {
      "cell_type": "markdown",
      "metadata": {
        "id": "BuDNigmtPQE2"
      },
      "source": [
        "# Credit Risk Resampling Techniques"
      ]
    },
    {
      "cell_type": "code",
      "metadata": {
        "id": "iQRR7hgN7IKm"
      },
      "source": [
        "import warnings\n",
        "warnings.filterwarnings('ignore')"
      ],
      "execution_count": null,
      "outputs": []
    },
    {
      "cell_type": "code",
      "metadata": {
        "id": "H4RTQfR87OLh"
      },
      "source": [
        "import numpy as np\n",
        "import pandas as pd\n",
        "from pathlib import Path\n",
        "from collections import Counter"
      ],
      "execution_count": null,
      "outputs": []
    },
    {
      "cell_type": "markdown",
      "metadata": {
        "id": "NxsTYwOMPYWc"
      },
      "source": [
        "**Read the CSV and Perform Basic Data Cleaning**"
      ]
    },
    {
      "cell_type": "code",
      "metadata": {
        "id": "juh2yMsp7O20"
      },
      "source": [
        "columns = [\n",
        "    \"loan_amnt\", \"int_rate\", \"installment\", \"home_ownership\",\n",
        "    \"annual_inc\", \"verification_status\", \"issue_d\", \"loan_status\",\n",
        "    \"pymnt_plan\", \"dti\", \"delinq_2yrs\", \"inq_last_6mths\",\n",
        "    \"open_acc\", \"pub_rec\", \"revol_bal\", \"total_acc\",\n",
        "    \"initial_list_status\", \"out_prncp\", \"out_prncp_inv\", \"total_pymnt\",\n",
        "    \"total_pymnt_inv\", \"total_rec_prncp\", \"total_rec_int\", \"total_rec_late_fee\",\n",
        "    \"recoveries\", \"collection_recovery_fee\", \"last_pymnt_amnt\", \"next_pymnt_d\",\n",
        "    \"collections_12_mths_ex_med\", \"policy_code\", \"application_type\", \"acc_now_delinq\",\n",
        "    \"tot_coll_amt\", \"tot_cur_bal\", \"open_acc_6m\", \"open_act_il\",\n",
        "    \"open_il_12m\", \"open_il_24m\", \"mths_since_rcnt_il\", \"total_bal_il\",\n",
        "    \"il_util\", \"open_rv_12m\", \"open_rv_24m\", \"max_bal_bc\",\n",
        "    \"all_util\", \"total_rev_hi_lim\", \"inq_fi\", \"total_cu_tl\",\n",
        "    \"inq_last_12m\", \"acc_open_past_24mths\", \"avg_cur_bal\", \"bc_open_to_buy\",\n",
        "    \"bc_util\", \"chargeoff_within_12_mths\", \"delinq_amnt\", \"mo_sin_old_il_acct\",\n",
        "    \"mo_sin_old_rev_tl_op\", \"mo_sin_rcnt_rev_tl_op\", \"mo_sin_rcnt_tl\", \"mort_acc\",\n",
        "    \"mths_since_recent_bc\", \"mths_since_recent_inq\", \"num_accts_ever_120_pd\", \"num_actv_bc_tl\",\n",
        "    \"num_actv_rev_tl\", \"num_bc_sats\", \"num_bc_tl\", \"num_il_tl\",\n",
        "    \"num_op_rev_tl\", \"num_rev_accts\", \"num_rev_tl_bal_gt_0\",\n",
        "    \"num_sats\", \"num_tl_120dpd_2m\", \"num_tl_30dpd\", \"num_tl_90g_dpd_24m\",\n",
        "    \"num_tl_op_past_12m\", \"pct_tl_nvr_dlq\", \"percent_bc_gt_75\", \"pub_rec_bankruptcies\",\n",
        "    \"tax_liens\", \"tot_hi_cred_lim\", \"total_bal_ex_mort\", \"total_bc_limit\",\n",
        "    \"total_il_high_credit_limit\", \"hardship_flag\", \"debt_settlement_flag\"\n",
        "]\n",
        "\n",
        "target = [\"loan_status\"]"
      ],
      "execution_count": null,
      "outputs": []
    },
    {
      "cell_type": "code",
      "metadata": {
        "colab": {
          "resources": {
            "http://localhost:8080/nbextensions/google.colab/files.js": {
              "data": "Ly8gQ29weXJpZ2h0IDIwMTcgR29vZ2xlIExMQwovLwovLyBMaWNlbnNlZCB1bmRlciB0aGUgQXBhY2hlIExpY2Vuc2UsIFZlcnNpb24gMi4wICh0aGUgIkxpY2Vuc2UiKTsKLy8geW91IG1heSBub3QgdXNlIHRoaXMgZmlsZSBleGNlcHQgaW4gY29tcGxpYW5jZSB3aXRoIHRoZSBMaWNlbnNlLgovLyBZb3UgbWF5IG9idGFpbiBhIGNvcHkgb2YgdGhlIExpY2Vuc2UgYXQKLy8KLy8gICAgICBodHRwOi8vd3d3LmFwYWNoZS5vcmcvbGljZW5zZXMvTElDRU5TRS0yLjAKLy8KLy8gVW5sZXNzIHJlcXVpcmVkIGJ5IGFwcGxpY2FibGUgbGF3IG9yIGFncmVlZCB0byBpbiB3cml0aW5nLCBzb2Z0d2FyZQovLyBkaXN0cmlidXRlZCB1bmRlciB0aGUgTGljZW5zZSBpcyBkaXN0cmlidXRlZCBvbiBhbiAiQVMgSVMiIEJBU0lTLAovLyBXSVRIT1VUIFdBUlJBTlRJRVMgT1IgQ09ORElUSU9OUyBPRiBBTlkgS0lORCwgZWl0aGVyIGV4cHJlc3Mgb3IgaW1wbGllZC4KLy8gU2VlIHRoZSBMaWNlbnNlIGZvciB0aGUgc3BlY2lmaWMgbGFuZ3VhZ2UgZ292ZXJuaW5nIHBlcm1pc3Npb25zIGFuZAovLyBsaW1pdGF0aW9ucyB1bmRlciB0aGUgTGljZW5zZS4KCi8qKgogKiBAZmlsZW92ZXJ2aWV3IEhlbHBlcnMgZm9yIGdvb2dsZS5jb2xhYiBQeXRob24gbW9kdWxlLgogKi8KKGZ1bmN0aW9uKHNjb3BlKSB7CmZ1bmN0aW9uIHNwYW4odGV4dCwgc3R5bGVBdHRyaWJ1dGVzID0ge30pIHsKICBjb25zdCBlbGVtZW50ID0gZG9jdW1lbnQuY3JlYXRlRWxlbWVudCgnc3BhbicpOwogIGVsZW1lbnQudGV4dENvbnRlbnQgPSB0ZXh0OwogIGZvciAoY29uc3Qga2V5IG9mIE9iamVjdC5rZXlzKHN0eWxlQXR0cmlidXRlcykpIHsKICAgIGVsZW1lbnQuc3R5bGVba2V5XSA9IHN0eWxlQXR0cmlidXRlc1trZXldOwogIH0KICByZXR1cm4gZWxlbWVudDsKfQoKLy8gTWF4IG51bWJlciBvZiBieXRlcyB3aGljaCB3aWxsIGJlIHVwbG9hZGVkIGF0IGEgdGltZS4KY29uc3QgTUFYX1BBWUxPQURfU0laRSA9IDEwMCAqIDEwMjQ7CgpmdW5jdGlvbiBfdXBsb2FkRmlsZXMoaW5wdXRJZCwgb3V0cHV0SWQpIHsKICBjb25zdCBzdGVwcyA9IHVwbG9hZEZpbGVzU3RlcChpbnB1dElkLCBvdXRwdXRJZCk7CiAgY29uc3Qgb3V0cHV0RWxlbWVudCA9IGRvY3VtZW50LmdldEVsZW1lbnRCeUlkKG91dHB1dElkKTsKICAvLyBDYWNoZSBzdGVwcyBvbiB0aGUgb3V0cHV0RWxlbWVudCB0byBtYWtlIGl0IGF2YWlsYWJsZSBmb3IgdGhlIG5leHQgY2FsbAogIC8vIHRvIHVwbG9hZEZpbGVzQ29udGludWUgZnJvbSBQeXRob24uCiAgb3V0cHV0RWxlbWVudC5zdGVwcyA9IHN0ZXBzOwoKICByZXR1cm4gX3VwbG9hZEZpbGVzQ29udGludWUob3V0cHV0SWQpOwp9CgovLyBUaGlzIGlzIHJvdWdobHkgYW4gYXN5bmMgZ2VuZXJhdG9yIChub3Qgc3VwcG9ydGVkIGluIHRoZSBicm93c2VyIHlldCksCi8vIHdoZXJlIHRoZXJlIGFyZSBtdWx0aXBsZSBhc3luY2hyb25vdXMgc3RlcHMgYW5kIHRoZSBQeXRob24gc2lkZSBpcyBnb2luZwovLyB0byBwb2xsIGZvciBjb21wbGV0aW9uIG9mIGVhY2ggc3RlcC4KLy8gVGhpcyB1c2VzIGEgUHJvbWlzZSB0byBibG9jayB0aGUgcHl0aG9uIHNpZGUgb24gY29tcGxldGlvbiBvZiBlYWNoIHN0ZXAsCi8vIHRoZW4gcGFzc2VzIHRoZSByZXN1bHQgb2YgdGhlIHByZXZpb3VzIHN0ZXAgYXMgdGhlIGlucHV0IHRvIHRoZSBuZXh0IHN0ZXAuCmZ1bmN0aW9uIF91cGxvYWRGaWxlc0NvbnRpbnVlKG91dHB1dElkKSB7CiAgY29uc3Qgb3V0cHV0RWxlbWVudCA9IGRvY3VtZW50LmdldEVsZW1lbnRCeUlkKG91dHB1dElkKTsKICBjb25zdCBzdGVwcyA9IG91dHB1dEVsZW1lbnQuc3RlcHM7CgogIGNvbnN0IG5leHQgPSBzdGVwcy5uZXh0KG91dHB1dEVsZW1lbnQubGFzdFByb21pc2VWYWx1ZSk7CiAgcmV0dXJuIFByb21pc2UucmVzb2x2ZShuZXh0LnZhbHVlLnByb21pc2UpLnRoZW4oKHZhbHVlKSA9PiB7CiAgICAvLyBDYWNoZSB0aGUgbGFzdCBwcm9taXNlIHZhbHVlIHRvIG1ha2UgaXQgYXZhaWxhYmxlIHRvIHRoZSBuZXh0CiAgICAvLyBzdGVwIG9mIHRoZSBnZW5lcmF0b3IuCiAgICBvdXRwdXRFbGVtZW50Lmxhc3RQcm9taXNlVmFsdWUgPSB2YWx1ZTsKICAgIHJldHVybiBuZXh0LnZhbHVlLnJlc3BvbnNlOwogIH0pOwp9CgovKioKICogR2VuZXJhdG9yIGZ1bmN0aW9uIHdoaWNoIGlzIGNhbGxlZCBiZXR3ZWVuIGVhY2ggYXN5bmMgc3RlcCBvZiB0aGUgdXBsb2FkCiAqIHByb2Nlc3MuCiAqIEBwYXJhbSB7c3RyaW5nfSBpbnB1dElkIEVsZW1lbnQgSUQgb2YgdGhlIGlucHV0IGZpbGUgcGlja2VyIGVsZW1lbnQuCiAqIEBwYXJhbSB7c3RyaW5nfSBvdXRwdXRJZCBFbGVtZW50IElEIG9mIHRoZSBvdXRwdXQgZGlzcGxheS4KICogQHJldHVybiB7IUl0ZXJhYmxlPCFPYmplY3Q+fSBJdGVyYWJsZSBvZiBuZXh0IHN0ZXBzLgogKi8KZnVuY3Rpb24qIHVwbG9hZEZpbGVzU3RlcChpbnB1dElkLCBvdXRwdXRJZCkgewogIGNvbnN0IGlucHV0RWxlbWVudCA9IGRvY3VtZW50LmdldEVsZW1lbnRCeUlkKGlucHV0SWQpOwogIGlucHV0RWxlbWVudC5kaXNhYmxlZCA9IGZhbHNlOwoKICBjb25zdCBvdXRwdXRFbGVtZW50ID0gZG9jdW1lbnQuZ2V0RWxlbWVudEJ5SWQob3V0cHV0SWQpOwogIG91dHB1dEVsZW1lbnQuaW5uZXJIVE1MID0gJyc7CgogIGNvbnN0IHBpY2tlZFByb21pc2UgPSBuZXcgUHJvbWlzZSgocmVzb2x2ZSkgPT4gewogICAgaW5wdXRFbGVtZW50LmFkZEV2ZW50TGlzdGVuZXIoJ2NoYW5nZScsIChlKSA9PiB7CiAgICAgIHJlc29sdmUoZS50YXJnZXQuZmlsZXMpOwogICAgfSk7CiAgfSk7CgogIGNvbnN0IGNhbmNlbCA9IGRvY3VtZW50LmNyZWF0ZUVsZW1lbnQoJ2J1dHRvbicpOwogIGlucHV0RWxlbWVudC5wYXJlbnRFbGVtZW50LmFwcGVuZENoaWxkKGNhbmNlbCk7CiAgY2FuY2VsLnRleHRDb250ZW50ID0gJ0NhbmNlbCB1cGxvYWQnOwogIGNvbnN0IGNhbmNlbFByb21pc2UgPSBuZXcgUHJvbWlzZSgocmVzb2x2ZSkgPT4gewogICAgY2FuY2VsLm9uY2xpY2sgPSAoKSA9PiB7CiAgICAgIHJlc29sdmUobnVsbCk7CiAgICB9OwogIH0pOwoKICAvLyBXYWl0IGZvciB0aGUgdXNlciB0byBwaWNrIHRoZSBmaWxlcy4KICBjb25zdCBmaWxlcyA9IHlpZWxkIHsKICAgIHByb21pc2U6IFByb21pc2UucmFjZShbcGlja2VkUHJvbWlzZSwgY2FuY2VsUHJvbWlzZV0pLAogICAgcmVzcG9uc2U6IHsKICAgICAgYWN0aW9uOiAnc3RhcnRpbmcnLAogICAgfQogIH07CgogIGNhbmNlbC5yZW1vdmUoKTsKCiAgLy8gRGlzYWJsZSB0aGUgaW5wdXQgZWxlbWVudCBzaW5jZSBmdXJ0aGVyIHBpY2tzIGFyZSBub3QgYWxsb3dlZC4KICBpbnB1dEVsZW1lbnQuZGlzYWJsZWQgPSB0cnVlOwoKICBpZiAoIWZpbGVzKSB7CiAgICByZXR1cm4gewogICAgICByZXNwb25zZTogewogICAgICAgIGFjdGlvbjogJ2NvbXBsZXRlJywKICAgICAgfQogICAgfTsKICB9CgogIGZvciAoY29uc3QgZmlsZSBvZiBmaWxlcykgewogICAgY29uc3QgbGkgPSBkb2N1bWVudC5jcmVhdGVFbGVtZW50KCdsaScpOwogICAgbGkuYXBwZW5kKHNwYW4oZmlsZS5uYW1lLCB7Zm9udFdlaWdodDogJ2JvbGQnfSkpOwogICAgbGkuYXBwZW5kKHNwYW4oCiAgICAgICAgYCgke2ZpbGUudHlwZSB8fCAnbi9hJ30pIC0gJHtmaWxlLnNpemV9IGJ5dGVzLCBgICsKICAgICAgICBgbGFzdCBtb2RpZmllZDogJHsKICAgICAgICAgICAgZmlsZS5sYXN0TW9kaWZpZWREYXRlID8gZmlsZS5sYXN0TW9kaWZpZWREYXRlLnRvTG9jYWxlRGF0ZVN0cmluZygpIDoKICAgICAgICAgICAgICAgICAgICAgICAgICAgICAgICAgICAgJ24vYSd9IC0gYCkpOwogICAgY29uc3QgcGVyY2VudCA9IHNwYW4oJzAlIGRvbmUnKTsKICAgIGxpLmFwcGVuZENoaWxkKHBlcmNlbnQpOwoKICAgIG91dHB1dEVsZW1lbnQuYXBwZW5kQ2hpbGQobGkpOwoKICAgIGNvbnN0IGZpbGVEYXRhUHJvbWlzZSA9IG5ldyBQcm9taXNlKChyZXNvbHZlKSA9PiB7CiAgICAgIGNvbnN0IHJlYWRlciA9IG5ldyBGaWxlUmVhZGVyKCk7CiAgICAgIHJlYWRlci5vbmxvYWQgPSAoZSkgPT4gewogICAgICAgIHJlc29sdmUoZS50YXJnZXQucmVzdWx0KTsKICAgICAgfTsKICAgICAgcmVhZGVyLnJlYWRBc0FycmF5QnVmZmVyKGZpbGUpOwogICAgfSk7CiAgICAvLyBXYWl0IGZvciB0aGUgZGF0YSB0byBiZSByZWFkeS4KICAgIGxldCBmaWxlRGF0YSA9IHlpZWxkIHsKICAgICAgcHJvbWlzZTogZmlsZURhdGFQcm9taXNlLAogICAgICByZXNwb25zZTogewogICAgICAgIGFjdGlvbjogJ2NvbnRpbnVlJywKICAgICAgfQogICAgfTsKCiAgICAvLyBVc2UgYSBjaHVua2VkIHNlbmRpbmcgdG8gYXZvaWQgbWVzc2FnZSBzaXplIGxpbWl0cy4gU2VlIGIvNjIxMTU2NjAuCiAgICBsZXQgcG9zaXRpb24gPSAwOwogICAgZG8gewogICAgICBjb25zdCBsZW5ndGggPSBNYXRoLm1pbihmaWxlRGF0YS5ieXRlTGVuZ3RoIC0gcG9zaXRpb24sIE1BWF9QQVlMT0FEX1NJWkUpOwogICAgICBjb25zdCBjaHVuayA9IG5ldyBVaW50OEFycmF5KGZpbGVEYXRhLCBwb3NpdGlvbiwgbGVuZ3RoKTsKICAgICAgcG9zaXRpb24gKz0gbGVuZ3RoOwoKICAgICAgY29uc3QgYmFzZTY0ID0gYnRvYShTdHJpbmcuZnJvbUNoYXJDb2RlLmFwcGx5KG51bGwsIGNodW5rKSk7CiAgICAgIHlpZWxkIHsKICAgICAgICByZXNwb25zZTogewogICAgICAgICAgYWN0aW9uOiAnYXBwZW5kJywKICAgICAgICAgIGZpbGU6IGZpbGUubmFtZSwKICAgICAgICAgIGRhdGE6IGJhc2U2NCwKICAgICAgICB9LAogICAgICB9OwoKICAgICAgbGV0IHBlcmNlbnREb25lID0gZmlsZURhdGEuYnl0ZUxlbmd0aCA9PT0gMCA/CiAgICAgICAgICAxMDAgOgogICAgICAgICAgTWF0aC5yb3VuZCgocG9zaXRpb24gLyBmaWxlRGF0YS5ieXRlTGVuZ3RoKSAqIDEwMCk7CiAgICAgIHBlcmNlbnQudGV4dENvbnRlbnQgPSBgJHtwZXJjZW50RG9uZX0lIGRvbmVgOwoKICAgIH0gd2hpbGUgKHBvc2l0aW9uIDwgZmlsZURhdGEuYnl0ZUxlbmd0aCk7CiAgfQoKICAvLyBBbGwgZG9uZS4KICB5aWVsZCB7CiAgICByZXNwb25zZTogewogICAgICBhY3Rpb246ICdjb21wbGV0ZScsCiAgICB9CiAgfTsKfQoKc2NvcGUuZ29vZ2xlID0gc2NvcGUuZ29vZ2xlIHx8IHt9OwpzY29wZS5nb29nbGUuY29sYWIgPSBzY29wZS5nb29nbGUuY29sYWIgfHwge307CnNjb3BlLmdvb2dsZS5jb2xhYi5fZmlsZXMgPSB7CiAgX3VwbG9hZEZpbGVzLAogIF91cGxvYWRGaWxlc0NvbnRpbnVlLAp9Owp9KShzZWxmKTsK",
              "headers": [
                [
                  "content-type",
                  "application/javascript"
                ]
              ],
              "ok": true,
              "status": 200,
              "status_text": ""
            }
          },
          "base_uri": "https://localhost:8080/",
          "height": 90
        },
        "id": "D_omBKdP7SHG",
        "outputId": "7095c324-2686-49eb-fdda-87ed55514f5d"
      },
      "source": [
        "#  Import LoanStats_2019Q1.csv\n",
        "from google.colab import files\n",
        "uploaded = files.upload()"
      ],
      "execution_count": null,
      "outputs": [
        {
          "output_type": "display_data",
          "data": {
            "text/html": [
              "\n",
              "     <input type=\"file\" id=\"files-22af5303-aa76-4484-af7a-aa7ca009fec2\" name=\"files[]\" multiple disabled\n",
              "        style=\"border:none\" />\n",
              "     <output id=\"result-22af5303-aa76-4484-af7a-aa7ca009fec2\">\n",
              "      Upload widget is only available when the cell has been executed in the\n",
              "      current browser session. Please rerun this cell to enable.\n",
              "      </output>\n",
              "      <script src=\"/nbextensions/google.colab/files.js\"></script> "
            ],
            "text/plain": [
              "<IPython.core.display.HTML object>"
            ]
          },
          "metadata": {
            "tags": []
          }
        },
        {
          "output_type": "stream",
          "text": [
            "Saving LoanStats_2019Q1.csv to LoanStats_2019Q1.csv\n"
          ],
          "name": "stdout"
        }
      ]
    },
    {
      "cell_type": "code",
      "metadata": {
        "colab": {
          "base_uri": "https://localhost:8080/",
          "height": 336
        },
        "id": "8v9Vm6Dp7Y05",
        "outputId": "25df491b-82c1-4105-ce18-32831420543d"
      },
      "source": [
        "# Load the data\n",
        "file_path = Path('LoanStats_2019Q1.csv')\n",
        "df = pd.read_csv(file_path, skiprows=1)[:-2]\n",
        "df = df.loc[:, columns].copy()\n",
        "\n",
        "# Drop the null columns where all values are null\n",
        "df = df.dropna(axis='columns', how='all')\n",
        "\n",
        "# Drop the null rows\n",
        "df = df.dropna()\n",
        "\n",
        "# Remove the `Issued` loan status\n",
        "issued_mask = df['loan_status'] != 'Issued'\n",
        "df = df.loc[issued_mask]\n",
        "\n",
        "# convert interest rate to numerical\n",
        "df['int_rate'] = df['int_rate'].str.replace('%', '')\n",
        "df['int_rate'] = df['int_rate'].astype('float') / 100\n",
        "\n",
        "\n",
        "# Convert the target column values to low_risk and high_risk based on their values\n",
        "x = {'Current': 'low_risk'}   \n",
        "df = df.replace(x)\n",
        "\n",
        "x = dict.fromkeys(['Late (31-120 days)', 'Late (16-30 days)', 'Default', 'In Grace Period'], 'high_risk')    \n",
        "df = df.replace(x)\n",
        "\n",
        "df.reset_index(inplace=True, drop=True)\n",
        "\n",
        "df.head()"
      ],
      "execution_count": null,
      "outputs": [
        {
          "output_type": "execute_result",
          "data": {
            "text/html": [
              "<div>\n",
              "<style scoped>\n",
              "    .dataframe tbody tr th:only-of-type {\n",
              "        vertical-align: middle;\n",
              "    }\n",
              "\n",
              "    .dataframe tbody tr th {\n",
              "        vertical-align: top;\n",
              "    }\n",
              "\n",
              "    .dataframe thead th {\n",
              "        text-align: right;\n",
              "    }\n",
              "</style>\n",
              "<table border=\"1\" class=\"dataframe\">\n",
              "  <thead>\n",
              "    <tr style=\"text-align: right;\">\n",
              "      <th></th>\n",
              "      <th>loan_amnt</th>\n",
              "      <th>int_rate</th>\n",
              "      <th>installment</th>\n",
              "      <th>home_ownership</th>\n",
              "      <th>annual_inc</th>\n",
              "      <th>verification_status</th>\n",
              "      <th>issue_d</th>\n",
              "      <th>loan_status</th>\n",
              "      <th>pymnt_plan</th>\n",
              "      <th>dti</th>\n",
              "      <th>delinq_2yrs</th>\n",
              "      <th>inq_last_6mths</th>\n",
              "      <th>open_acc</th>\n",
              "      <th>pub_rec</th>\n",
              "      <th>revol_bal</th>\n",
              "      <th>total_acc</th>\n",
              "      <th>initial_list_status</th>\n",
              "      <th>out_prncp</th>\n",
              "      <th>out_prncp_inv</th>\n",
              "      <th>total_pymnt</th>\n",
              "      <th>total_pymnt_inv</th>\n",
              "      <th>total_rec_prncp</th>\n",
              "      <th>total_rec_int</th>\n",
              "      <th>total_rec_late_fee</th>\n",
              "      <th>recoveries</th>\n",
              "      <th>collection_recovery_fee</th>\n",
              "      <th>last_pymnt_amnt</th>\n",
              "      <th>next_pymnt_d</th>\n",
              "      <th>collections_12_mths_ex_med</th>\n",
              "      <th>policy_code</th>\n",
              "      <th>application_type</th>\n",
              "      <th>acc_now_delinq</th>\n",
              "      <th>tot_coll_amt</th>\n",
              "      <th>tot_cur_bal</th>\n",
              "      <th>open_acc_6m</th>\n",
              "      <th>open_act_il</th>\n",
              "      <th>open_il_12m</th>\n",
              "      <th>open_il_24m</th>\n",
              "      <th>mths_since_rcnt_il</th>\n",
              "      <th>total_bal_il</th>\n",
              "      <th>...</th>\n",
              "      <th>inq_fi</th>\n",
              "      <th>total_cu_tl</th>\n",
              "      <th>inq_last_12m</th>\n",
              "      <th>acc_open_past_24mths</th>\n",
              "      <th>avg_cur_bal</th>\n",
              "      <th>bc_open_to_buy</th>\n",
              "      <th>bc_util</th>\n",
              "      <th>chargeoff_within_12_mths</th>\n",
              "      <th>delinq_amnt</th>\n",
              "      <th>mo_sin_old_il_acct</th>\n",
              "      <th>mo_sin_old_rev_tl_op</th>\n",
              "      <th>mo_sin_rcnt_rev_tl_op</th>\n",
              "      <th>mo_sin_rcnt_tl</th>\n",
              "      <th>mort_acc</th>\n",
              "      <th>mths_since_recent_bc</th>\n",
              "      <th>mths_since_recent_inq</th>\n",
              "      <th>num_accts_ever_120_pd</th>\n",
              "      <th>num_actv_bc_tl</th>\n",
              "      <th>num_actv_rev_tl</th>\n",
              "      <th>num_bc_sats</th>\n",
              "      <th>num_bc_tl</th>\n",
              "      <th>num_il_tl</th>\n",
              "      <th>num_op_rev_tl</th>\n",
              "      <th>num_rev_accts</th>\n",
              "      <th>num_rev_tl_bal_gt_0</th>\n",
              "      <th>num_sats</th>\n",
              "      <th>num_tl_120dpd_2m</th>\n",
              "      <th>num_tl_30dpd</th>\n",
              "      <th>num_tl_90g_dpd_24m</th>\n",
              "      <th>num_tl_op_past_12m</th>\n",
              "      <th>pct_tl_nvr_dlq</th>\n",
              "      <th>percent_bc_gt_75</th>\n",
              "      <th>pub_rec_bankruptcies</th>\n",
              "      <th>tax_liens</th>\n",
              "      <th>tot_hi_cred_lim</th>\n",
              "      <th>total_bal_ex_mort</th>\n",
              "      <th>total_bc_limit</th>\n",
              "      <th>total_il_high_credit_limit</th>\n",
              "      <th>hardship_flag</th>\n",
              "      <th>debt_settlement_flag</th>\n",
              "    </tr>\n",
              "  </thead>\n",
              "  <tbody>\n",
              "    <tr>\n",
              "      <th>0</th>\n",
              "      <td>10500.0</td>\n",
              "      <td>0.1719</td>\n",
              "      <td>375.35</td>\n",
              "      <td>RENT</td>\n",
              "      <td>66000.0</td>\n",
              "      <td>Source Verified</td>\n",
              "      <td>Mar-2019</td>\n",
              "      <td>low_risk</td>\n",
              "      <td>n</td>\n",
              "      <td>27.24</td>\n",
              "      <td>0.0</td>\n",
              "      <td>0.0</td>\n",
              "      <td>8.0</td>\n",
              "      <td>0.0</td>\n",
              "      <td>1609.0</td>\n",
              "      <td>14.0</td>\n",
              "      <td>w</td>\n",
              "      <td>10204.87</td>\n",
              "      <td>10204.87</td>\n",
              "      <td>355.29</td>\n",
              "      <td>355.29</td>\n",
              "      <td>295.13</td>\n",
              "      <td>60.16</td>\n",
              "      <td>0.0</td>\n",
              "      <td>0.0</td>\n",
              "      <td>0.0</td>\n",
              "      <td>375.35</td>\n",
              "      <td>May-2019</td>\n",
              "      <td>0.0</td>\n",
              "      <td>1.0</td>\n",
              "      <td>Individual</td>\n",
              "      <td>0.0</td>\n",
              "      <td>178.0</td>\n",
              "      <td>38199.0</td>\n",
              "      <td>3.0</td>\n",
              "      <td>4.0</td>\n",
              "      <td>2.0</td>\n",
              "      <td>4.0</td>\n",
              "      <td>3.0</td>\n",
              "      <td>36590.0</td>\n",
              "      <td>...</td>\n",
              "      <td>1.0</td>\n",
              "      <td>0.0</td>\n",
              "      <td>4.0</td>\n",
              "      <td>6.0</td>\n",
              "      <td>4775.0</td>\n",
              "      <td>447.0</td>\n",
              "      <td>77.7</td>\n",
              "      <td>0.0</td>\n",
              "      <td>0.0</td>\n",
              "      <td>93.0</td>\n",
              "      <td>96.0</td>\n",
              "      <td>3.0</td>\n",
              "      <td>3.0</td>\n",
              "      <td>0.0</td>\n",
              "      <td>20.0</td>\n",
              "      <td>1.0</td>\n",
              "      <td>0.0</td>\n",
              "      <td>1.0</td>\n",
              "      <td>2.0</td>\n",
              "      <td>1.0</td>\n",
              "      <td>1.0</td>\n",
              "      <td>10.0</td>\n",
              "      <td>3.0</td>\n",
              "      <td>3.0</td>\n",
              "      <td>2.0</td>\n",
              "      <td>8.0</td>\n",
              "      <td>0.0</td>\n",
              "      <td>0.0</td>\n",
              "      <td>0.0</td>\n",
              "      <td>3.0</td>\n",
              "      <td>85.7</td>\n",
              "      <td>100.0</td>\n",
              "      <td>0.0</td>\n",
              "      <td>0.0</td>\n",
              "      <td>65687.0</td>\n",
              "      <td>38199.0</td>\n",
              "      <td>2000.0</td>\n",
              "      <td>61987.0</td>\n",
              "      <td>N</td>\n",
              "      <td>N</td>\n",
              "    </tr>\n",
              "    <tr>\n",
              "      <th>1</th>\n",
              "      <td>25000.0</td>\n",
              "      <td>0.2000</td>\n",
              "      <td>929.09</td>\n",
              "      <td>MORTGAGE</td>\n",
              "      <td>105000.0</td>\n",
              "      <td>Verified</td>\n",
              "      <td>Mar-2019</td>\n",
              "      <td>low_risk</td>\n",
              "      <td>n</td>\n",
              "      <td>20.23</td>\n",
              "      <td>0.0</td>\n",
              "      <td>0.0</td>\n",
              "      <td>17.0</td>\n",
              "      <td>1.0</td>\n",
              "      <td>18368.0</td>\n",
              "      <td>34.0</td>\n",
              "      <td>w</td>\n",
              "      <td>24293.13</td>\n",
              "      <td>24293.13</td>\n",
              "      <td>873.53</td>\n",
              "      <td>873.53</td>\n",
              "      <td>706.87</td>\n",
              "      <td>166.66</td>\n",
              "      <td>0.0</td>\n",
              "      <td>0.0</td>\n",
              "      <td>0.0</td>\n",
              "      <td>929.09</td>\n",
              "      <td>May-2019</td>\n",
              "      <td>0.0</td>\n",
              "      <td>1.0</td>\n",
              "      <td>Individual</td>\n",
              "      <td>0.0</td>\n",
              "      <td>165.0</td>\n",
              "      <td>228119.0</td>\n",
              "      <td>3.0</td>\n",
              "      <td>3.0</td>\n",
              "      <td>2.0</td>\n",
              "      <td>3.0</td>\n",
              "      <td>4.0</td>\n",
              "      <td>42273.0</td>\n",
              "      <td>...</td>\n",
              "      <td>4.0</td>\n",
              "      <td>9.0</td>\n",
              "      <td>3.0</td>\n",
              "      <td>13.0</td>\n",
              "      <td>13419.0</td>\n",
              "      <td>29502.0</td>\n",
              "      <td>28.4</td>\n",
              "      <td>0.0</td>\n",
              "      <td>0.0</td>\n",
              "      <td>87.0</td>\n",
              "      <td>286.0</td>\n",
              "      <td>1.0</td>\n",
              "      <td>1.0</td>\n",
              "      <td>2.0</td>\n",
              "      <td>1.0</td>\n",
              "      <td>11.0</td>\n",
              "      <td>3.0</td>\n",
              "      <td>7.0</td>\n",
              "      <td>11.0</td>\n",
              "      <td>8.0</td>\n",
              "      <td>13.0</td>\n",
              "      <td>14.0</td>\n",
              "      <td>13.0</td>\n",
              "      <td>18.0</td>\n",
              "      <td>11.0</td>\n",
              "      <td>17.0</td>\n",
              "      <td>0.0</td>\n",
              "      <td>0.0</td>\n",
              "      <td>0.0</td>\n",
              "      <td>6.0</td>\n",
              "      <td>91.2</td>\n",
              "      <td>50.0</td>\n",
              "      <td>1.0</td>\n",
              "      <td>0.0</td>\n",
              "      <td>271427.0</td>\n",
              "      <td>60641.0</td>\n",
              "      <td>41200.0</td>\n",
              "      <td>49197.0</td>\n",
              "      <td>N</td>\n",
              "      <td>N</td>\n",
              "    </tr>\n",
              "    <tr>\n",
              "      <th>2</th>\n",
              "      <td>20000.0</td>\n",
              "      <td>0.2000</td>\n",
              "      <td>529.88</td>\n",
              "      <td>MORTGAGE</td>\n",
              "      <td>56000.0</td>\n",
              "      <td>Verified</td>\n",
              "      <td>Mar-2019</td>\n",
              "      <td>low_risk</td>\n",
              "      <td>n</td>\n",
              "      <td>24.26</td>\n",
              "      <td>0.0</td>\n",
              "      <td>0.0</td>\n",
              "      <td>8.0</td>\n",
              "      <td>0.0</td>\n",
              "      <td>13247.0</td>\n",
              "      <td>21.0</td>\n",
              "      <td>w</td>\n",
              "      <td>19636.79</td>\n",
              "      <td>19636.79</td>\n",
              "      <td>485.44</td>\n",
              "      <td>485.44</td>\n",
              "      <td>363.21</td>\n",
              "      <td>122.23</td>\n",
              "      <td>0.0</td>\n",
              "      <td>0.0</td>\n",
              "      <td>0.0</td>\n",
              "      <td>529.88</td>\n",
              "      <td>May-2019</td>\n",
              "      <td>0.0</td>\n",
              "      <td>1.0</td>\n",
              "      <td>Individual</td>\n",
              "      <td>0.0</td>\n",
              "      <td>0.0</td>\n",
              "      <td>45684.0</td>\n",
              "      <td>2.0</td>\n",
              "      <td>3.0</td>\n",
              "      <td>2.0</td>\n",
              "      <td>3.0</td>\n",
              "      <td>4.0</td>\n",
              "      <td>32437.0</td>\n",
              "      <td>...</td>\n",
              "      <td>0.0</td>\n",
              "      <td>4.0</td>\n",
              "      <td>1.0</td>\n",
              "      <td>6.0</td>\n",
              "      <td>5711.0</td>\n",
              "      <td>2839.0</td>\n",
              "      <td>62.1</td>\n",
              "      <td>0.0</td>\n",
              "      <td>0.0</td>\n",
              "      <td>159.0</td>\n",
              "      <td>156.0</td>\n",
              "      <td>7.0</td>\n",
              "      <td>4.0</td>\n",
              "      <td>0.0</td>\n",
              "      <td>7.0</td>\n",
              "      <td>7.0</td>\n",
              "      <td>6.0</td>\n",
              "      <td>2.0</td>\n",
              "      <td>5.0</td>\n",
              "      <td>2.0</td>\n",
              "      <td>7.0</td>\n",
              "      <td>8.0</td>\n",
              "      <td>5.0</td>\n",
              "      <td>13.0</td>\n",
              "      <td>5.0</td>\n",
              "      <td>8.0</td>\n",
              "      <td>0.0</td>\n",
              "      <td>0.0</td>\n",
              "      <td>0.0</td>\n",
              "      <td>4.0</td>\n",
              "      <td>66.7</td>\n",
              "      <td>50.0</td>\n",
              "      <td>0.0</td>\n",
              "      <td>0.0</td>\n",
              "      <td>60644.0</td>\n",
              "      <td>45684.0</td>\n",
              "      <td>7500.0</td>\n",
              "      <td>43144.0</td>\n",
              "      <td>N</td>\n",
              "      <td>N</td>\n",
              "    </tr>\n",
              "    <tr>\n",
              "      <th>3</th>\n",
              "      <td>10000.0</td>\n",
              "      <td>0.1640</td>\n",
              "      <td>353.55</td>\n",
              "      <td>RENT</td>\n",
              "      <td>92000.0</td>\n",
              "      <td>Verified</td>\n",
              "      <td>Mar-2019</td>\n",
              "      <td>low_risk</td>\n",
              "      <td>n</td>\n",
              "      <td>31.44</td>\n",
              "      <td>0.0</td>\n",
              "      <td>1.0</td>\n",
              "      <td>10.0</td>\n",
              "      <td>1.0</td>\n",
              "      <td>17996.0</td>\n",
              "      <td>23.0</td>\n",
              "      <td>w</td>\n",
              "      <td>9719.34</td>\n",
              "      <td>9719.34</td>\n",
              "      <td>335.33</td>\n",
              "      <td>335.33</td>\n",
              "      <td>280.66</td>\n",
              "      <td>54.67</td>\n",
              "      <td>0.0</td>\n",
              "      <td>0.0</td>\n",
              "      <td>0.0</td>\n",
              "      <td>353.55</td>\n",
              "      <td>May-2019</td>\n",
              "      <td>0.0</td>\n",
              "      <td>1.0</td>\n",
              "      <td>Individual</td>\n",
              "      <td>0.0</td>\n",
              "      <td>0.0</td>\n",
              "      <td>68784.0</td>\n",
              "      <td>0.0</td>\n",
              "      <td>4.0</td>\n",
              "      <td>1.0</td>\n",
              "      <td>3.0</td>\n",
              "      <td>9.0</td>\n",
              "      <td>50788.0</td>\n",
              "      <td>...</td>\n",
              "      <td>3.0</td>\n",
              "      <td>5.0</td>\n",
              "      <td>4.0</td>\n",
              "      <td>4.0</td>\n",
              "      <td>6878.0</td>\n",
              "      <td>4899.0</td>\n",
              "      <td>75.1</td>\n",
              "      <td>0.0</td>\n",
              "      <td>0.0</td>\n",
              "      <td>100.0</td>\n",
              "      <td>89.0</td>\n",
              "      <td>24.0</td>\n",
              "      <td>9.0</td>\n",
              "      <td>0.0</td>\n",
              "      <td>34.0</td>\n",
              "      <td>0.0</td>\n",
              "      <td>0.0</td>\n",
              "      <td>4.0</td>\n",
              "      <td>6.0</td>\n",
              "      <td>4.0</td>\n",
              "      <td>4.0</td>\n",
              "      <td>17.0</td>\n",
              "      <td>6.0</td>\n",
              "      <td>6.0</td>\n",
              "      <td>6.0</td>\n",
              "      <td>10.0</td>\n",
              "      <td>0.0</td>\n",
              "      <td>0.0</td>\n",
              "      <td>0.0</td>\n",
              "      <td>1.0</td>\n",
              "      <td>100.0</td>\n",
              "      <td>50.0</td>\n",
              "      <td>1.0</td>\n",
              "      <td>0.0</td>\n",
              "      <td>99506.0</td>\n",
              "      <td>68784.0</td>\n",
              "      <td>19700.0</td>\n",
              "      <td>76506.0</td>\n",
              "      <td>N</td>\n",
              "      <td>N</td>\n",
              "    </tr>\n",
              "    <tr>\n",
              "      <th>4</th>\n",
              "      <td>22000.0</td>\n",
              "      <td>0.1474</td>\n",
              "      <td>520.39</td>\n",
              "      <td>MORTGAGE</td>\n",
              "      <td>52000.0</td>\n",
              "      <td>Not Verified</td>\n",
              "      <td>Mar-2019</td>\n",
              "      <td>low_risk</td>\n",
              "      <td>n</td>\n",
              "      <td>18.76</td>\n",
              "      <td>0.0</td>\n",
              "      <td>1.0</td>\n",
              "      <td>14.0</td>\n",
              "      <td>0.0</td>\n",
              "      <td>9091.0</td>\n",
              "      <td>28.0</td>\n",
              "      <td>w</td>\n",
              "      <td>21614.73</td>\n",
              "      <td>21614.73</td>\n",
              "      <td>484.36</td>\n",
              "      <td>484.36</td>\n",
              "      <td>385.27</td>\n",
              "      <td>99.09</td>\n",
              "      <td>0.0</td>\n",
              "      <td>0.0</td>\n",
              "      <td>0.0</td>\n",
              "      <td>520.39</td>\n",
              "      <td>May-2019</td>\n",
              "      <td>0.0</td>\n",
              "      <td>1.0</td>\n",
              "      <td>Individual</td>\n",
              "      <td>0.0</td>\n",
              "      <td>0.0</td>\n",
              "      <td>177745.0</td>\n",
              "      <td>0.0</td>\n",
              "      <td>1.0</td>\n",
              "      <td>0.0</td>\n",
              "      <td>2.0</td>\n",
              "      <td>14.0</td>\n",
              "      <td>16828.0</td>\n",
              "      <td>...</td>\n",
              "      <td>2.0</td>\n",
              "      <td>0.0</td>\n",
              "      <td>2.0</td>\n",
              "      <td>4.0</td>\n",
              "      <td>13673.0</td>\n",
              "      <td>19699.0</td>\n",
              "      <td>28.6</td>\n",
              "      <td>0.0</td>\n",
              "      <td>0.0</td>\n",
              "      <td>67.0</td>\n",
              "      <td>138.0</td>\n",
              "      <td>11.0</td>\n",
              "      <td>11.0</td>\n",
              "      <td>4.0</td>\n",
              "      <td>11.0</td>\n",
              "      <td>0.0</td>\n",
              "      <td>0.0</td>\n",
              "      <td>4.0</td>\n",
              "      <td>6.0</td>\n",
              "      <td>7.0</td>\n",
              "      <td>11.0</td>\n",
              "      <td>6.0</td>\n",
              "      <td>12.0</td>\n",
              "      <td>18.0</td>\n",
              "      <td>6.0</td>\n",
              "      <td>14.0</td>\n",
              "      <td>0.0</td>\n",
              "      <td>0.0</td>\n",
              "      <td>0.0</td>\n",
              "      <td>1.0</td>\n",
              "      <td>100.0</td>\n",
              "      <td>0.0</td>\n",
              "      <td>0.0</td>\n",
              "      <td>0.0</td>\n",
              "      <td>219750.0</td>\n",
              "      <td>25919.0</td>\n",
              "      <td>27600.0</td>\n",
              "      <td>20000.0</td>\n",
              "      <td>N</td>\n",
              "      <td>N</td>\n",
              "    </tr>\n",
              "  </tbody>\n",
              "</table>\n",
              "<p>5 rows × 86 columns</p>\n",
              "</div>"
            ],
            "text/plain": [
              "   loan_amnt  int_rate  ...  hardship_flag debt_settlement_flag\n",
              "0    10500.0    0.1719  ...              N                    N\n",
              "1    25000.0    0.2000  ...              N                    N\n",
              "2    20000.0    0.2000  ...              N                    N\n",
              "3    10000.0    0.1640  ...              N                    N\n",
              "4    22000.0    0.1474  ...              N                    N\n",
              "\n",
              "[5 rows x 86 columns]"
            ]
          },
          "metadata": {
            "tags": []
          },
          "execution_count": 6
        }
      ]
    },
    {
      "cell_type": "markdown",
      "metadata": {
        "id": "p-WJ87_uPxZW"
      },
      "source": [
        "\n",
        "**Split the Data into Training and Testing**"
      ]
    },
    {
      "cell_type": "code",
      "metadata": {
        "id": "zPWtbFSA7cEx"
      },
      "source": [
        "# Create our features\n",
        "X_df = df.drop(columns = [\"loan_status\"], axis = 1)\n",
        "X = pd.get_dummies(X_df, [\"home_ownership\",\"verification_status\",\"issue_d\", \"pymnt_plan\",\"initial_list_status\",\"next_pymnt_d\",\"debt_settlement_flag\", \"application_type\",\"hardship_flag\"], drop_first = True)\n",
        "\n",
        "\n",
        "# Create our target\n",
        "y = df['loan_status'].to_frame()"
      ],
      "execution_count": null,
      "outputs": []
    },
    {
      "cell_type": "code",
      "metadata": {
        "colab": {
          "base_uri": "https://localhost:8080/",
          "height": 361
        },
        "id": "cagL1Ilu7eUP",
        "outputId": "0af82667-832a-4bb0-b19e-22d6033b5a3b"
      },
      "source": [
        "X.describe()"
      ],
      "execution_count": null,
      "outputs": [
        {
          "output_type": "execute_result",
          "data": {
            "text/html": [
              "<div>\n",
              "<style scoped>\n",
              "    .dataframe tbody tr th:only-of-type {\n",
              "        vertical-align: middle;\n",
              "    }\n",
              "\n",
              "    .dataframe tbody tr th {\n",
              "        vertical-align: top;\n",
              "    }\n",
              "\n",
              "    .dataframe thead th {\n",
              "        text-align: right;\n",
              "    }\n",
              "</style>\n",
              "<table border=\"1\" class=\"dataframe\">\n",
              "  <thead>\n",
              "    <tr style=\"text-align: right;\">\n",
              "      <th></th>\n",
              "      <th>loan_amnt</th>\n",
              "      <th>int_rate</th>\n",
              "      <th>installment</th>\n",
              "      <th>annual_inc</th>\n",
              "      <th>dti</th>\n",
              "      <th>delinq_2yrs</th>\n",
              "      <th>inq_last_6mths</th>\n",
              "      <th>open_acc</th>\n",
              "      <th>pub_rec</th>\n",
              "      <th>revol_bal</th>\n",
              "      <th>total_acc</th>\n",
              "      <th>out_prncp</th>\n",
              "      <th>out_prncp_inv</th>\n",
              "      <th>total_pymnt</th>\n",
              "      <th>total_pymnt_inv</th>\n",
              "      <th>total_rec_prncp</th>\n",
              "      <th>total_rec_int</th>\n",
              "      <th>total_rec_late_fee</th>\n",
              "      <th>recoveries</th>\n",
              "      <th>collection_recovery_fee</th>\n",
              "      <th>last_pymnt_amnt</th>\n",
              "      <th>collections_12_mths_ex_med</th>\n",
              "      <th>policy_code</th>\n",
              "      <th>acc_now_delinq</th>\n",
              "      <th>tot_coll_amt</th>\n",
              "      <th>tot_cur_bal</th>\n",
              "      <th>open_acc_6m</th>\n",
              "      <th>open_act_il</th>\n",
              "      <th>open_il_12m</th>\n",
              "      <th>open_il_24m</th>\n",
              "      <th>mths_since_rcnt_il</th>\n",
              "      <th>total_bal_il</th>\n",
              "      <th>il_util</th>\n",
              "      <th>open_rv_12m</th>\n",
              "      <th>open_rv_24m</th>\n",
              "      <th>max_bal_bc</th>\n",
              "      <th>all_util</th>\n",
              "      <th>total_rev_hi_lim</th>\n",
              "      <th>inq_fi</th>\n",
              "      <th>total_cu_tl</th>\n",
              "      <th>...</th>\n",
              "      <th>num_actv_bc_tl</th>\n",
              "      <th>num_actv_rev_tl</th>\n",
              "      <th>num_bc_sats</th>\n",
              "      <th>num_bc_tl</th>\n",
              "      <th>num_il_tl</th>\n",
              "      <th>num_op_rev_tl</th>\n",
              "      <th>num_rev_accts</th>\n",
              "      <th>num_rev_tl_bal_gt_0</th>\n",
              "      <th>num_sats</th>\n",
              "      <th>num_tl_120dpd_2m</th>\n",
              "      <th>num_tl_30dpd</th>\n",
              "      <th>num_tl_90g_dpd_24m</th>\n",
              "      <th>num_tl_op_past_12m</th>\n",
              "      <th>pct_tl_nvr_dlq</th>\n",
              "      <th>percent_bc_gt_75</th>\n",
              "      <th>pub_rec_bankruptcies</th>\n",
              "      <th>tax_liens</th>\n",
              "      <th>tot_hi_cred_lim</th>\n",
              "      <th>total_bal_ex_mort</th>\n",
              "      <th>total_bc_limit</th>\n",
              "      <th>total_il_high_credit_limit</th>\n",
              "      <th>home_ownership_ANY</th>\n",
              "      <th>home_ownership_MORTGAGE</th>\n",
              "      <th>home_ownership_OWN</th>\n",
              "      <th>home_ownership_RENT</th>\n",
              "      <th>verification_status_Not Verified</th>\n",
              "      <th>verification_status_Source Verified</th>\n",
              "      <th>verification_status_Verified</th>\n",
              "      <th>issue_d_Feb-2019</th>\n",
              "      <th>issue_d_Jan-2019</th>\n",
              "      <th>issue_d_Mar-2019</th>\n",
              "      <th>pymnt_plan_n</th>\n",
              "      <th>hardship_flag_N</th>\n",
              "      <th>debt_settlement_flag_N</th>\n",
              "      <th>next_pymnt_d_Apr-2019</th>\n",
              "      <th>next_pymnt_d_May-2019</th>\n",
              "      <th>initial_list_status_f</th>\n",
              "      <th>initial_list_status_w</th>\n",
              "      <th>application_type_Individual</th>\n",
              "      <th>application_type_Joint App</th>\n",
              "    </tr>\n",
              "  </thead>\n",
              "  <tbody>\n",
              "    <tr>\n",
              "      <th>count</th>\n",
              "      <td>68817.000000</td>\n",
              "      <td>68817.000000</td>\n",
              "      <td>68817.000000</td>\n",
              "      <td>6.881700e+04</td>\n",
              "      <td>68817.000000</td>\n",
              "      <td>68817.000000</td>\n",
              "      <td>68817.000000</td>\n",
              "      <td>68817.000000</td>\n",
              "      <td>68817.000000</td>\n",
              "      <td>68817.000000</td>\n",
              "      <td>68817.000000</td>\n",
              "      <td>68817.000000</td>\n",
              "      <td>68817.000000</td>\n",
              "      <td>68817.000000</td>\n",
              "      <td>68817.000000</td>\n",
              "      <td>68817.000000</td>\n",
              "      <td>68817.000000</td>\n",
              "      <td>68817.000000</td>\n",
              "      <td>68817.0</td>\n",
              "      <td>68817.0</td>\n",
              "      <td>68817.000000</td>\n",
              "      <td>68817.000000</td>\n",
              "      <td>68817.0</td>\n",
              "      <td>68817.0</td>\n",
              "      <td>68817.000000</td>\n",
              "      <td>6.881700e+04</td>\n",
              "      <td>68817.000000</td>\n",
              "      <td>68817.000000</td>\n",
              "      <td>68817.000000</td>\n",
              "      <td>68817.000000</td>\n",
              "      <td>68817.000000</td>\n",
              "      <td>6.881700e+04</td>\n",
              "      <td>68817.00000</td>\n",
              "      <td>68817.000000</td>\n",
              "      <td>68817.000000</td>\n",
              "      <td>68817.000000</td>\n",
              "      <td>68817.000000</td>\n",
              "      <td>68817.000000</td>\n",
              "      <td>68817.000000</td>\n",
              "      <td>68817.000000</td>\n",
              "      <td>...</td>\n",
              "      <td>68817.000000</td>\n",
              "      <td>68817.000000</td>\n",
              "      <td>68817.000000</td>\n",
              "      <td>68817.000000</td>\n",
              "      <td>68817.000000</td>\n",
              "      <td>68817.000000</td>\n",
              "      <td>68817.000000</td>\n",
              "      <td>68817.000000</td>\n",
              "      <td>68817.000000</td>\n",
              "      <td>68817.0</td>\n",
              "      <td>68817.0</td>\n",
              "      <td>68817.000000</td>\n",
              "      <td>68817.000000</td>\n",
              "      <td>68817.000000</td>\n",
              "      <td>68817.000000</td>\n",
              "      <td>68817.000000</td>\n",
              "      <td>68817.0</td>\n",
              "      <td>6.881700e+04</td>\n",
              "      <td>6.881700e+04</td>\n",
              "      <td>68817.000000</td>\n",
              "      <td>6.881700e+04</td>\n",
              "      <td>68817.000000</td>\n",
              "      <td>68817.000000</td>\n",
              "      <td>68817.000000</td>\n",
              "      <td>68817.000000</td>\n",
              "      <td>68817.000000</td>\n",
              "      <td>68817.000000</td>\n",
              "      <td>68817.000000</td>\n",
              "      <td>68817.000000</td>\n",
              "      <td>68817.000000</td>\n",
              "      <td>68817.000000</td>\n",
              "      <td>68817.0</td>\n",
              "      <td>68817.0</td>\n",
              "      <td>68817.0</td>\n",
              "      <td>68817.000000</td>\n",
              "      <td>68817.000000</td>\n",
              "      <td>68817.000000</td>\n",
              "      <td>68817.000000</td>\n",
              "      <td>68817.000000</td>\n",
              "      <td>68817.000000</td>\n",
              "    </tr>\n",
              "    <tr>\n",
              "      <th>mean</th>\n",
              "      <td>16677.594562</td>\n",
              "      <td>0.127718</td>\n",
              "      <td>480.652863</td>\n",
              "      <td>8.821371e+04</td>\n",
              "      <td>21.778153</td>\n",
              "      <td>0.217766</td>\n",
              "      <td>0.497697</td>\n",
              "      <td>12.587340</td>\n",
              "      <td>0.126030</td>\n",
              "      <td>17604.142828</td>\n",
              "      <td>24.666347</td>\n",
              "      <td>16018.845833</td>\n",
              "      <td>16015.919519</td>\n",
              "      <td>970.639473</td>\n",
              "      <td>970.431151</td>\n",
              "      <td>658.748750</td>\n",
              "      <td>311.855687</td>\n",
              "      <td>0.035072</td>\n",
              "      <td>0.0</td>\n",
              "      <td>0.0</td>\n",
              "      <td>517.202218</td>\n",
              "      <td>0.016188</td>\n",
              "      <td>1.0</td>\n",
              "      <td>0.0</td>\n",
              "      <td>188.664298</td>\n",
              "      <td>1.634976e+05</td>\n",
              "      <td>1.023047</td>\n",
              "      <td>3.290481</td>\n",
              "      <td>0.843730</td>\n",
              "      <td>1.909644</td>\n",
              "      <td>14.303152</td>\n",
              "      <td>4.324044e+04</td>\n",
              "      <td>69.21191</td>\n",
              "      <td>1.240042</td>\n",
              "      <td>2.622245</td>\n",
              "      <td>6297.491710</td>\n",
              "      <td>55.702472</td>\n",
              "      <td>42431.895360</td>\n",
              "      <td>1.382071</td>\n",
              "      <td>1.687795</td>\n",
              "      <td>...</td>\n",
              "      <td>3.806123</td>\n",
              "      <td>5.648038</td>\n",
              "      <td>5.135156</td>\n",
              "      <td>7.414403</td>\n",
              "      <td>9.500153</td>\n",
              "      <td>8.630818</td>\n",
              "      <td>13.517663</td>\n",
              "      <td>5.653036</td>\n",
              "      <td>12.571995</td>\n",
              "      <td>0.0</td>\n",
              "      <td>0.0</td>\n",
              "      <td>0.052138</td>\n",
              "      <td>2.219423</td>\n",
              "      <td>95.057627</td>\n",
              "      <td>30.626217</td>\n",
              "      <td>0.125972</td>\n",
              "      <td>0.0</td>\n",
              "      <td>2.100332e+05</td>\n",
              "      <td>6.133843e+04</td>\n",
              "      <td>29734.128558</td>\n",
              "      <td>5.572240e+04</td>\n",
              "      <td>0.009285</td>\n",
              "      <td>0.526309</td>\n",
              "      <td>0.106747</td>\n",
              "      <td>0.357659</td>\n",
              "      <td>0.478007</td>\n",
              "      <td>0.373992</td>\n",
              "      <td>0.148001</td>\n",
              "      <td>0.371696</td>\n",
              "      <td>0.451066</td>\n",
              "      <td>0.177238</td>\n",
              "      <td>1.0</td>\n",
              "      <td>1.0</td>\n",
              "      <td>1.0</td>\n",
              "      <td>0.383161</td>\n",
              "      <td>0.616839</td>\n",
              "      <td>0.123879</td>\n",
              "      <td>0.876121</td>\n",
              "      <td>0.860340</td>\n",
              "      <td>0.139660</td>\n",
              "    </tr>\n",
              "    <tr>\n",
              "      <th>std</th>\n",
              "      <td>10277.348590</td>\n",
              "      <td>0.048130</td>\n",
              "      <td>288.062432</td>\n",
              "      <td>1.155800e+05</td>\n",
              "      <td>20.199244</td>\n",
              "      <td>0.718367</td>\n",
              "      <td>0.758122</td>\n",
              "      <td>6.022869</td>\n",
              "      <td>0.336797</td>\n",
              "      <td>21835.880400</td>\n",
              "      <td>12.318917</td>\n",
              "      <td>10002.695495</td>\n",
              "      <td>10004.985940</td>\n",
              "      <td>1229.563301</td>\n",
              "      <td>1229.569864</td>\n",
              "      <td>1126.237377</td>\n",
              "      <td>279.786954</td>\n",
              "      <td>1.086720</td>\n",
              "      <td>0.0</td>\n",
              "      <td>0.0</td>\n",
              "      <td>816.021053</td>\n",
              "      <td>0.134774</td>\n",
              "      <td>0.0</td>\n",
              "      <td>0.0</td>\n",
              "      <td>1808.457195</td>\n",
              "      <td>1.723699e+05</td>\n",
              "      <td>1.176782</td>\n",
              "      <td>2.965579</td>\n",
              "      <td>0.970543</td>\n",
              "      <td>1.544994</td>\n",
              "      <td>13.972619</td>\n",
              "      <td>4.956130e+04</td>\n",
              "      <td>22.33711</td>\n",
              "      <td>1.471745</td>\n",
              "      <td>2.502608</td>\n",
              "      <td>5702.281757</td>\n",
              "      <td>18.495480</td>\n",
              "      <td>37166.229316</td>\n",
              "      <td>1.543220</td>\n",
              "      <td>2.852664</td>\n",
              "      <td>...</td>\n",
              "      <td>2.464504</td>\n",
              "      <td>3.470941</td>\n",
              "      <td>3.230651</td>\n",
              "      <td>4.581371</td>\n",
              "      <td>7.573846</td>\n",
              "      <td>5.056994</td>\n",
              "      <td>8.026158</td>\n",
              "      <td>3.472679</td>\n",
              "      <td>6.021318</td>\n",
              "      <td>0.0</td>\n",
              "      <td>0.0</td>\n",
              "      <td>0.390633</td>\n",
              "      <td>1.897432</td>\n",
              "      <td>8.326426</td>\n",
              "      <td>33.631463</td>\n",
              "      <td>0.336732</td>\n",
              "      <td>0.0</td>\n",
              "      <td>1.928088e+05</td>\n",
              "      <td>5.738798e+04</td>\n",
              "      <td>26795.394232</td>\n",
              "      <td>5.095845e+04</td>\n",
              "      <td>0.095914</td>\n",
              "      <td>0.499311</td>\n",
              "      <td>0.308793</td>\n",
              "      <td>0.479314</td>\n",
              "      <td>0.499520</td>\n",
              "      <td>0.483865</td>\n",
              "      <td>0.355104</td>\n",
              "      <td>0.483261</td>\n",
              "      <td>0.497603</td>\n",
              "      <td>0.381873</td>\n",
              "      <td>0.0</td>\n",
              "      <td>0.0</td>\n",
              "      <td>0.0</td>\n",
              "      <td>0.486161</td>\n",
              "      <td>0.486161</td>\n",
              "      <td>0.329446</td>\n",
              "      <td>0.329446</td>\n",
              "      <td>0.346637</td>\n",
              "      <td>0.346637</td>\n",
              "    </tr>\n",
              "    <tr>\n",
              "      <th>min</th>\n",
              "      <td>1000.000000</td>\n",
              "      <td>0.060000</td>\n",
              "      <td>30.890000</td>\n",
              "      <td>4.000000e+01</td>\n",
              "      <td>0.000000</td>\n",
              "      <td>0.000000</td>\n",
              "      <td>0.000000</td>\n",
              "      <td>2.000000</td>\n",
              "      <td>0.000000</td>\n",
              "      <td>0.000000</td>\n",
              "      <td>3.000000</td>\n",
              "      <td>0.000000</td>\n",
              "      <td>0.000000</td>\n",
              "      <td>0.000000</td>\n",
              "      <td>0.000000</td>\n",
              "      <td>0.000000</td>\n",
              "      <td>0.000000</td>\n",
              "      <td>0.000000</td>\n",
              "      <td>0.0</td>\n",
              "      <td>0.0</td>\n",
              "      <td>0.000000</td>\n",
              "      <td>0.000000</td>\n",
              "      <td>1.0</td>\n",
              "      <td>0.0</td>\n",
              "      <td>0.000000</td>\n",
              "      <td>2.350000e+02</td>\n",
              "      <td>0.000000</td>\n",
              "      <td>0.000000</td>\n",
              "      <td>0.000000</td>\n",
              "      <td>0.000000</td>\n",
              "      <td>0.000000</td>\n",
              "      <td>1.000000e+00</td>\n",
              "      <td>0.00000</td>\n",
              "      <td>0.000000</td>\n",
              "      <td>0.000000</td>\n",
              "      <td>0.000000</td>\n",
              "      <td>1.000000</td>\n",
              "      <td>200.000000</td>\n",
              "      <td>0.000000</td>\n",
              "      <td>0.000000</td>\n",
              "      <td>...</td>\n",
              "      <td>0.000000</td>\n",
              "      <td>0.000000</td>\n",
              "      <td>0.000000</td>\n",
              "      <td>1.000000</td>\n",
              "      <td>1.000000</td>\n",
              "      <td>1.000000</td>\n",
              "      <td>2.000000</td>\n",
              "      <td>0.000000</td>\n",
              "      <td>2.000000</td>\n",
              "      <td>0.0</td>\n",
              "      <td>0.0</td>\n",
              "      <td>0.000000</td>\n",
              "      <td>0.000000</td>\n",
              "      <td>20.000000</td>\n",
              "      <td>0.000000</td>\n",
              "      <td>0.000000</td>\n",
              "      <td>0.0</td>\n",
              "      <td>3.600000e+03</td>\n",
              "      <td>2.350000e+02</td>\n",
              "      <td>100.000000</td>\n",
              "      <td>1.270000e+02</td>\n",
              "      <td>0.000000</td>\n",
              "      <td>0.000000</td>\n",
              "      <td>0.000000</td>\n",
              "      <td>0.000000</td>\n",
              "      <td>0.000000</td>\n",
              "      <td>0.000000</td>\n",
              "      <td>0.000000</td>\n",
              "      <td>0.000000</td>\n",
              "      <td>0.000000</td>\n",
              "      <td>0.000000</td>\n",
              "      <td>1.0</td>\n",
              "      <td>1.0</td>\n",
              "      <td>1.0</td>\n",
              "      <td>0.000000</td>\n",
              "      <td>0.000000</td>\n",
              "      <td>0.000000</td>\n",
              "      <td>0.000000</td>\n",
              "      <td>0.000000</td>\n",
              "      <td>0.000000</td>\n",
              "    </tr>\n",
              "    <tr>\n",
              "      <th>25%</th>\n",
              "      <td>9000.000000</td>\n",
              "      <td>0.088100</td>\n",
              "      <td>265.730000</td>\n",
              "      <td>5.000000e+04</td>\n",
              "      <td>13.890000</td>\n",
              "      <td>0.000000</td>\n",
              "      <td>0.000000</td>\n",
              "      <td>8.000000</td>\n",
              "      <td>0.000000</td>\n",
              "      <td>6293.000000</td>\n",
              "      <td>16.000000</td>\n",
              "      <td>8578.800000</td>\n",
              "      <td>8576.500000</td>\n",
              "      <td>403.760000</td>\n",
              "      <td>403.550000</td>\n",
              "      <td>250.370000</td>\n",
              "      <td>115.440000</td>\n",
              "      <td>0.000000</td>\n",
              "      <td>0.0</td>\n",
              "      <td>0.0</td>\n",
              "      <td>267.110000</td>\n",
              "      <td>0.000000</td>\n",
              "      <td>1.0</td>\n",
              "      <td>0.0</td>\n",
              "      <td>0.000000</td>\n",
              "      <td>3.570000e+04</td>\n",
              "      <td>0.000000</td>\n",
              "      <td>2.000000</td>\n",
              "      <td>0.000000</td>\n",
              "      <td>1.000000</td>\n",
              "      <td>6.000000</td>\n",
              "      <td>1.422300e+04</td>\n",
              "      <td>56.00000</td>\n",
              "      <td>0.000000</td>\n",
              "      <td>1.000000</td>\n",
              "      <td>2558.000000</td>\n",
              "      <td>43.000000</td>\n",
              "      <td>19200.000000</td>\n",
              "      <td>0.000000</td>\n",
              "      <td>0.000000</td>\n",
              "      <td>...</td>\n",
              "      <td>2.000000</td>\n",
              "      <td>3.000000</td>\n",
              "      <td>3.000000</td>\n",
              "      <td>4.000000</td>\n",
              "      <td>4.000000</td>\n",
              "      <td>5.000000</td>\n",
              "      <td>8.000000</td>\n",
              "      <td>3.000000</td>\n",
              "      <td>8.000000</td>\n",
              "      <td>0.0</td>\n",
              "      <td>0.0</td>\n",
              "      <td>0.000000</td>\n",
              "      <td>1.000000</td>\n",
              "      <td>93.000000</td>\n",
              "      <td>0.000000</td>\n",
              "      <td>0.000000</td>\n",
              "      <td>0.0</td>\n",
              "      <td>6.697700e+04</td>\n",
              "      <td>2.650300e+04</td>\n",
              "      <td>11600.000000</td>\n",
              "      <td>2.288000e+04</td>\n",
              "      <td>0.000000</td>\n",
              "      <td>0.000000</td>\n",
              "      <td>0.000000</td>\n",
              "      <td>0.000000</td>\n",
              "      <td>0.000000</td>\n",
              "      <td>0.000000</td>\n",
              "      <td>0.000000</td>\n",
              "      <td>0.000000</td>\n",
              "      <td>0.000000</td>\n",
              "      <td>0.000000</td>\n",
              "      <td>1.0</td>\n",
              "      <td>1.0</td>\n",
              "      <td>1.0</td>\n",
              "      <td>0.000000</td>\n",
              "      <td>0.000000</td>\n",
              "      <td>0.000000</td>\n",
              "      <td>1.000000</td>\n",
              "      <td>1.000000</td>\n",
              "      <td>0.000000</td>\n",
              "    </tr>\n",
              "    <tr>\n",
              "      <th>50%</th>\n",
              "      <td>15000.000000</td>\n",
              "      <td>0.118000</td>\n",
              "      <td>404.560000</td>\n",
              "      <td>7.300000e+04</td>\n",
              "      <td>19.760000</td>\n",
              "      <td>0.000000</td>\n",
              "      <td>0.000000</td>\n",
              "      <td>11.000000</td>\n",
              "      <td>0.000000</td>\n",
              "      <td>12068.000000</td>\n",
              "      <td>23.000000</td>\n",
              "      <td>14067.750000</td>\n",
              "      <td>14061.030000</td>\n",
              "      <td>710.790000</td>\n",
              "      <td>710.790000</td>\n",
              "      <td>449.890000</td>\n",
              "      <td>225.250000</td>\n",
              "      <td>0.000000</td>\n",
              "      <td>0.0</td>\n",
              "      <td>0.0</td>\n",
              "      <td>408.520000</td>\n",
              "      <td>0.000000</td>\n",
              "      <td>1.0</td>\n",
              "      <td>0.0</td>\n",
              "      <td>0.000000</td>\n",
              "      <td>9.960600e+04</td>\n",
              "      <td>1.000000</td>\n",
              "      <td>2.000000</td>\n",
              "      <td>1.000000</td>\n",
              "      <td>2.000000</td>\n",
              "      <td>11.000000</td>\n",
              "      <td>2.862600e+04</td>\n",
              "      <td>71.00000</td>\n",
              "      <td>1.000000</td>\n",
              "      <td>2.000000</td>\n",
              "      <td>4874.000000</td>\n",
              "      <td>56.000000</td>\n",
              "      <td>32800.000000</td>\n",
              "      <td>1.000000</td>\n",
              "      <td>1.000000</td>\n",
              "      <td>...</td>\n",
              "      <td>3.000000</td>\n",
              "      <td>5.000000</td>\n",
              "      <td>4.000000</td>\n",
              "      <td>6.000000</td>\n",
              "      <td>7.000000</td>\n",
              "      <td>8.000000</td>\n",
              "      <td>12.000000</td>\n",
              "      <td>5.000000</td>\n",
              "      <td>11.000000</td>\n",
              "      <td>0.0</td>\n",
              "      <td>0.0</td>\n",
              "      <td>0.000000</td>\n",
              "      <td>2.000000</td>\n",
              "      <td>100.000000</td>\n",
              "      <td>20.000000</td>\n",
              "      <td>0.000000</td>\n",
              "      <td>0.0</td>\n",
              "      <td>1.467100e+05</td>\n",
              "      <td>4.535700e+04</td>\n",
              "      <td>22100.000000</td>\n",
              "      <td>4.200000e+04</td>\n",
              "      <td>0.000000</td>\n",
              "      <td>1.000000</td>\n",
              "      <td>0.000000</td>\n",
              "      <td>0.000000</td>\n",
              "      <td>0.000000</td>\n",
              "      <td>0.000000</td>\n",
              "      <td>0.000000</td>\n",
              "      <td>0.000000</td>\n",
              "      <td>0.000000</td>\n",
              "      <td>0.000000</td>\n",
              "      <td>1.0</td>\n",
              "      <td>1.0</td>\n",
              "      <td>1.0</td>\n",
              "      <td>0.000000</td>\n",
              "      <td>1.000000</td>\n",
              "      <td>0.000000</td>\n",
              "      <td>1.000000</td>\n",
              "      <td>1.000000</td>\n",
              "      <td>0.000000</td>\n",
              "    </tr>\n",
              "    <tr>\n",
              "      <th>75%</th>\n",
              "      <td>24000.000000</td>\n",
              "      <td>0.155700</td>\n",
              "      <td>648.100000</td>\n",
              "      <td>1.040000e+05</td>\n",
              "      <td>26.660000</td>\n",
              "      <td>0.000000</td>\n",
              "      <td>1.000000</td>\n",
              "      <td>16.000000</td>\n",
              "      <td>0.000000</td>\n",
              "      <td>21735.000000</td>\n",
              "      <td>31.000000</td>\n",
              "      <td>22860.700000</td>\n",
              "      <td>22860.490000</td>\n",
              "      <td>1214.600000</td>\n",
              "      <td>1214.590000</td>\n",
              "      <td>762.170000</td>\n",
              "      <td>415.710000</td>\n",
              "      <td>0.000000</td>\n",
              "      <td>0.0</td>\n",
              "      <td>0.0</td>\n",
              "      <td>652.580000</td>\n",
              "      <td>0.000000</td>\n",
              "      <td>1.0</td>\n",
              "      <td>0.0</td>\n",
              "      <td>0.000000</td>\n",
              "      <td>2.472060e+05</td>\n",
              "      <td>2.000000</td>\n",
              "      <td>4.000000</td>\n",
              "      <td>1.000000</td>\n",
              "      <td>3.000000</td>\n",
              "      <td>18.000000</td>\n",
              "      <td>5.406500e+04</td>\n",
              "      <td>85.00000</td>\n",
              "      <td>2.000000</td>\n",
              "      <td>4.000000</td>\n",
              "      <td>8321.000000</td>\n",
              "      <td>68.000000</td>\n",
              "      <td>54100.000000</td>\n",
              "      <td>2.000000</td>\n",
              "      <td>2.000000</td>\n",
              "      <td>...</td>\n",
              "      <td>5.000000</td>\n",
              "      <td>7.000000</td>\n",
              "      <td>7.000000</td>\n",
              "      <td>10.000000</td>\n",
              "      <td>12.000000</td>\n",
              "      <td>11.000000</td>\n",
              "      <td>17.000000</td>\n",
              "      <td>7.000000</td>\n",
              "      <td>16.000000</td>\n",
              "      <td>0.0</td>\n",
              "      <td>0.0</td>\n",
              "      <td>0.000000</td>\n",
              "      <td>3.000000</td>\n",
              "      <td>100.000000</td>\n",
              "      <td>50.000000</td>\n",
              "      <td>0.000000</td>\n",
              "      <td>0.0</td>\n",
              "      <td>3.036400e+05</td>\n",
              "      <td>7.657000e+04</td>\n",
              "      <td>39300.000000</td>\n",
              "      <td>7.249900e+04</td>\n",
              "      <td>0.000000</td>\n",
              "      <td>1.000000</td>\n",
              "      <td>0.000000</td>\n",
              "      <td>1.000000</td>\n",
              "      <td>1.000000</td>\n",
              "      <td>1.000000</td>\n",
              "      <td>0.000000</td>\n",
              "      <td>1.000000</td>\n",
              "      <td>1.000000</td>\n",
              "      <td>0.000000</td>\n",
              "      <td>1.0</td>\n",
              "      <td>1.0</td>\n",
              "      <td>1.0</td>\n",
              "      <td>1.000000</td>\n",
              "      <td>1.000000</td>\n",
              "      <td>0.000000</td>\n",
              "      <td>1.000000</td>\n",
              "      <td>1.000000</td>\n",
              "      <td>0.000000</td>\n",
              "    </tr>\n",
              "    <tr>\n",
              "      <th>max</th>\n",
              "      <td>40000.000000</td>\n",
              "      <td>0.308400</td>\n",
              "      <td>1676.230000</td>\n",
              "      <td>8.797500e+06</td>\n",
              "      <td>999.000000</td>\n",
              "      <td>18.000000</td>\n",
              "      <td>5.000000</td>\n",
              "      <td>72.000000</td>\n",
              "      <td>4.000000</td>\n",
              "      <td>587191.000000</td>\n",
              "      <td>164.000000</td>\n",
              "      <td>40000.000000</td>\n",
              "      <td>40000.000000</td>\n",
              "      <td>41418.981165</td>\n",
              "      <td>41418.980000</td>\n",
              "      <td>40000.000000</td>\n",
              "      <td>2735.400000</td>\n",
              "      <td>75.240000</td>\n",
              "      <td>0.0</td>\n",
              "      <td>0.0</td>\n",
              "      <td>40500.340000</td>\n",
              "      <td>4.000000</td>\n",
              "      <td>1.0</td>\n",
              "      <td>0.0</td>\n",
              "      <td>159199.000000</td>\n",
              "      <td>3.140082e+06</td>\n",
              "      <td>14.000000</td>\n",
              "      <td>63.000000</td>\n",
              "      <td>6.000000</td>\n",
              "      <td>22.000000</td>\n",
              "      <td>389.000000</td>\n",
              "      <td>1.260281e+06</td>\n",
              "      <td>313.00000</td>\n",
              "      <td>18.000000</td>\n",
              "      <td>44.000000</td>\n",
              "      <td>207484.000000</td>\n",
              "      <td>216.000000</td>\n",
              "      <td>759500.000000</td>\n",
              "      <td>29.000000</td>\n",
              "      <td>70.000000</td>\n",
              "      <td>...</td>\n",
              "      <td>26.000000</td>\n",
              "      <td>43.000000</td>\n",
              "      <td>43.000000</td>\n",
              "      <td>60.000000</td>\n",
              "      <td>149.000000</td>\n",
              "      <td>70.000000</td>\n",
              "      <td>98.000000</td>\n",
              "      <td>43.000000</td>\n",
              "      <td>72.000000</td>\n",
              "      <td>0.0</td>\n",
              "      <td>0.0</td>\n",
              "      <td>18.000000</td>\n",
              "      <td>19.000000</td>\n",
              "      <td>100.000000</td>\n",
              "      <td>100.000000</td>\n",
              "      <td>4.000000</td>\n",
              "      <td>0.0</td>\n",
              "      <td>3.292782e+06</td>\n",
              "      <td>1.295455e+06</td>\n",
              "      <td>509400.000000</td>\n",
              "      <td>1.426964e+06</td>\n",
              "      <td>1.000000</td>\n",
              "      <td>1.000000</td>\n",
              "      <td>1.000000</td>\n",
              "      <td>1.000000</td>\n",
              "      <td>1.000000</td>\n",
              "      <td>1.000000</td>\n",
              "      <td>1.000000</td>\n",
              "      <td>1.000000</td>\n",
              "      <td>1.000000</td>\n",
              "      <td>1.000000</td>\n",
              "      <td>1.0</td>\n",
              "      <td>1.0</td>\n",
              "      <td>1.0</td>\n",
              "      <td>1.000000</td>\n",
              "      <td>1.000000</td>\n",
              "      <td>1.000000</td>\n",
              "      <td>1.000000</td>\n",
              "      <td>1.000000</td>\n",
              "      <td>1.000000</td>\n",
              "    </tr>\n",
              "  </tbody>\n",
              "</table>\n",
              "<p>8 rows × 95 columns</p>\n",
              "</div>"
            ],
            "text/plain": [
              "          loan_amnt  ...  application_type_Joint App\n",
              "count  68817.000000  ...                68817.000000\n",
              "mean   16677.594562  ...                    0.139660\n",
              "std    10277.348590  ...                    0.346637\n",
              "min     1000.000000  ...                    0.000000\n",
              "25%     9000.000000  ...                    0.000000\n",
              "50%    15000.000000  ...                    0.000000\n",
              "75%    24000.000000  ...                    0.000000\n",
              "max    40000.000000  ...                    1.000000\n",
              "\n",
              "[8 rows x 95 columns]"
            ]
          },
          "metadata": {
            "tags": []
          },
          "execution_count": 8
        }
      ]
    },
    {
      "cell_type": "code",
      "metadata": {
        "colab": {
          "base_uri": "https://localhost:8080/"
        },
        "id": "sgVdRGe37gH1",
        "outputId": "b7f22f41-af29-46d7-c065-ea05d2e0dc52"
      },
      "source": [
        "# Check the balance of our target values\n",
        "y['loan_status'].value_counts()"
      ],
      "execution_count": null,
      "outputs": [
        {
          "output_type": "execute_result",
          "data": {
            "text/plain": [
              "low_risk     68470\n",
              "high_risk      347\n",
              "Name: loan_status, dtype: int64"
            ]
          },
          "metadata": {
            "tags": []
          },
          "execution_count": 12
        }
      ]
    },
    {
      "cell_type": "code",
      "metadata": {
        "colab": {
          "base_uri": "https://localhost:8080/"
        },
        "id": "nHJUJuSj7hZT",
        "outputId": "d97c9ec5-ad58-4cc2-8878-777afed615ca"
      },
      "source": [
        "from sklearn.model_selection import train_test_split\n",
        "X_train, X_test, y_train, y_test = train_test_split(X, y, random_state=1, stratify=y)\n",
        "X_train.shape"
      ],
      "execution_count": null,
      "outputs": [
        {
          "output_type": "execute_result",
          "data": {
            "text/plain": [
              "(51612, 86)"
            ]
          },
          "metadata": {
            "tags": []
          },
          "execution_count": 13
        }
      ]
    },
    {
      "cell_type": "markdown",
      "metadata": {
        "id": "EYLusyqmQB7G"
      },
      "source": [
        "**Oversampling**\n",
        "\n",
        "In this section, you will compare two oversampling algorithms to determine which algorithm results in the best performance. You will oversample the data using the naive random oversampling algorithm and the SMOTE algorithm. For each algorithm, be sure to complete the folliowing steps:\n",
        "\n",
        "View the count of the target classes \n",
        "\n",
        "1. View the count of the target classes using Counter from the collections library. \n",
        "2. Use the resampled data to train a logistic regression model.\n",
        "3. Calculate the balanced accuracy score from sklearn.metrics.\n",
        "4. Print the confusion matrix from sklearn.metrics.\n",
        "5. Generate a classication report using the imbalanced_classification_report from imbalanced-learn.\n",
        " \n",
        "Note: Use a random state of 1 for each sampling algorithm to ensure consistency between tests"
      ]
    },
    {
      "cell_type": "markdown",
      "metadata": {
        "id": "1zjRfmAGQzPQ"
      },
      "source": [
        "**Naive Random Oversampling**"
      ]
    },
    {
      "cell_type": "code",
      "metadata": {
        "colab": {
          "base_uri": "https://localhost:8080/"
        },
        "id": "J6CuoKh87jDy",
        "outputId": "d90f908b-20ff-44bc-dcad-1c636c5368e4"
      },
      "source": [
        "# Resample the training data with the RandomOversampler\n",
        "from imblearn.over_sampling import RandomOverSampler\n",
        "ros = RandomOverSampler(random_state=1)\n",
        "X_resampled, y_resampled = ros.fit_resample(X_train, y_train)\n",
        "\n",
        "Counter(y_resampled)"
      ],
      "execution_count": null,
      "outputs": [
        {
          "output_type": "execute_result",
          "data": {
            "text/plain": [
              "Counter({'high_risk': 51352, 'low_risk': 51352})"
            ]
          },
          "metadata": {
            "tags": []
          },
          "execution_count": 14
        }
      ]
    },
    {
      "cell_type": "code",
      "metadata": {
        "colab": {
          "base_uri": "https://localhost:8080/"
        },
        "id": "Wz7jFD--7kd3",
        "outputId": "894629bd-4d8c-44b3-9d84-eaa3b5b5887c"
      },
      "source": [
        "# Train the Logistic Regression model using the resampled data\n",
        "from sklearn.linear_model import LogisticRegression\n",
        "model = LogisticRegression(solver='lbfgs', random_state=1)\n",
        "model.fit(X_resampled, y_resampled)"
      ],
      "execution_count": null,
      "outputs": [
        {
          "output_type": "execute_result",
          "data": {
            "text/plain": [
              "LogisticRegression(C=1.0, class_weight=None, dual=False, fit_intercept=True,\n",
              "                   intercept_scaling=1, l1_ratio=None, max_iter=100,\n",
              "                   multi_class='auto', n_jobs=None, penalty='l2',\n",
              "                   random_state=1, solver='lbfgs', tol=0.0001, verbose=0,\n",
              "                   warm_start=False)"
            ]
          },
          "metadata": {
            "tags": []
          },
          "execution_count": 15
        }
      ]
    },
    {
      "cell_type": "code",
      "metadata": {
        "colab": {
          "base_uri": "https://localhost:8080/"
        },
        "id": "ncfiLI5U7ld8",
        "outputId": "1cbc3cff-f797-48a2-b7f1-d196fb78456a"
      },
      "source": [
        "# Calculated the balanced accuracy score\n",
        "from sklearn.metrics import accuracy_score\n",
        "y_pred = model.predict(X_test)\n",
        "accuracy_score(y_test, y_pred)"
      ],
      "execution_count": null,
      "outputs": [
        {
          "output_type": "execute_result",
          "data": {
            "text/plain": [
              "0.6731182795698925"
            ]
          },
          "metadata": {
            "tags": []
          },
          "execution_count": 16
        }
      ]
    },
    {
      "cell_type": "code",
      "metadata": {
        "colab": {
          "base_uri": "https://localhost:8080/"
        },
        "id": "umaHFkWJ7n7i",
        "outputId": "2d45de75-1c32-493d-938a-c96112ba5a36"
      },
      "source": [
        "# Display the confusion matrix\n",
        "confusion_matrix(y_test, y_pred)"
      ],
      "execution_count": null,
      "outputs": [
        {
          "output_type": "execute_result",
          "data": {
            "text/plain": [
              "array([[   56,    31],\n",
              "       [ 5593, 11525]])"
            ]
          },
          "metadata": {
            "tags": []
          },
          "execution_count": 18
        }
      ]
    },
    {
      "cell_type": "code",
      "metadata": {
        "colab": {
          "base_uri": "https://localhost:8080/"
        },
        "id": "yhf0lsG-7o5B",
        "outputId": "1730aab4-5274-439b-ffa1-58db2cf19db5"
      },
      "source": [
        "# Print the imbalanced classification report\n",
        "from imblearn.metrics import classification_report_imbalanced \n",
        "print(classification_report_imbalanced(y_test, y_pred))"
      ],
      "execution_count": null,
      "outputs": [
        {
          "output_type": "stream",
          "text": [
            "                   pre       rec       spe        f1       geo       iba       sup\n",
            "\n",
            "  high_risk       0.01      0.64      0.67      0.02      0.66      0.43        87\n",
            "   low_risk       1.00      0.67      0.64      0.80      0.66      0.43     17118\n",
            "\n",
            "avg / total       0.99      0.67      0.64      0.80      0.66      0.43     17205\n",
            "\n"
          ],
          "name": "stdout"
        }
      ]
    },
    {
      "cell_type": "markdown",
      "metadata": {
        "id": "SsmebN3EQ5ax"
      },
      "source": [
        "**SMOTE Oversampling**"
      ]
    },
    {
      "cell_type": "code",
      "metadata": {
        "colab": {
          "base_uri": "https://localhost:8080/"
        },
        "id": "iIGfc9wg7q29",
        "outputId": "902793ef-c8c0-473a-98a2-e58a5d9af9c8"
      },
      "source": [
        "# Resample the training data with SMOTE\n",
        "from imblearn.over_sampling import SMOTE\n",
        "X_resampled, y_resampled = SMOTE(random_state=1).fit_resample(X_train, y_train)\n",
        "\n",
        "print(Counter(y_resampled))\n",
        "print(X_resampled.shape)"
      ],
      "execution_count": null,
      "outputs": [
        {
          "output_type": "stream",
          "text": [
            "Counter({'low_risk': 51352, 'high_risk': 51352})\n",
            "(102704, 86)\n"
          ],
          "name": "stdout"
        }
      ]
    },
    {
      "cell_type": "code",
      "metadata": {
        "colab": {
          "base_uri": "https://localhost:8080/"
        },
        "id": "xLv_T-iQ7r4k",
        "outputId": "6487993a-4db0-4a46-fca6-f6002ec437f7"
      },
      "source": [
        "# Train the Logistic Regression model using the resampled data\n",
        "model = LogisticRegression(solver='lbfgs', random_state=1)\n",
        "model.fit(X_resampled, y_resampled)"
      ],
      "execution_count": null,
      "outputs": [
        {
          "output_type": "execute_result",
          "data": {
            "text/plain": [
              "LogisticRegression(C=1.0, class_weight=None, dual=False, fit_intercept=True,\n",
              "                   intercept_scaling=1, l1_ratio=None, max_iter=100,\n",
              "                   multi_class='auto', n_jobs=None, penalty='l2',\n",
              "                   random_state=1, solver='lbfgs', tol=0.0001, verbose=0,\n",
              "                   warm_start=False)"
            ]
          },
          "metadata": {
            "tags": []
          },
          "execution_count": 21
        }
      ]
    },
    {
      "cell_type": "code",
      "metadata": {
        "colab": {
          "base_uri": "https://localhost:8080/"
        },
        "id": "E3ncKQog7ulv",
        "outputId": "12f40c7e-48d9-4c85-f64e-d79b60b7fd16"
      },
      "source": [
        "# Calculated the balanced accuracy score\n",
        "y_pred = model.predict(X_test)\n",
        "accuracy_score(y_test, y_pred)"
      ],
      "execution_count": null,
      "outputs": [
        {
          "output_type": "execute_result",
          "data": {
            "text/plain": [
              "0.6564370822435338"
            ]
          },
          "metadata": {
            "tags": []
          },
          "execution_count": 22
        }
      ]
    },
    {
      "cell_type": "code",
      "metadata": {
        "colab": {
          "base_uri": "https://localhost:8080/"
        },
        "id": "Oj9g7Von7wxR",
        "outputId": "4ad5d82e-bd1b-4bf4-dc1d-63edf18011ee"
      },
      "source": [
        "# Display the confusion matrix\n",
        "confusion_matrix(y_test, y_pred)"
      ],
      "execution_count": null,
      "outputs": [
        {
          "output_type": "execute_result",
          "data": {
            "text/plain": [
              "array([[   56,    31],\n",
              "       [ 5880, 11238]])"
            ]
          },
          "metadata": {
            "tags": []
          },
          "execution_count": 23
        }
      ]
    },
    {
      "cell_type": "code",
      "metadata": {
        "colab": {
          "base_uri": "https://localhost:8080/"
        },
        "id": "OrmKEwAa7x-6",
        "outputId": "c191a92f-7371-4811-b9ce-712fa6f01bee"
      },
      "source": [
        "# Print the imbalanced classification report\n",
        "print(classification_report_imbalanced(y_test, y_pred))"
      ],
      "execution_count": null,
      "outputs": [
        {
          "output_type": "stream",
          "text": [
            "                   pre       rec       spe        f1       geo       iba       sup\n",
            "\n",
            "  high_risk       0.01      0.64      0.66      0.02      0.65      0.42        87\n",
            "   low_risk       1.00      0.66      0.64      0.79      0.65      0.42     17118\n",
            "\n",
            "avg / total       0.99      0.66      0.64      0.79      0.65      0.42     17205\n",
            "\n"
          ],
          "name": "stdout"
        }
      ]
    },
    {
      "cell_type": "markdown",
      "metadata": {
        "id": "I8WGezc0RA5d"
      },
      "source": [
        "**Undersampling**\n",
        "\n",
        "In this section, you will test an undersampling algorithms to determine which algorithm results in the best performance compared to the oversampling algorithms above. You will undersample the data using the Cluster Centroids algorithm and complete the folliowing steps:\n",
        "\n",
        "1. View the count of the target classes using Counter from the collections library.\n",
        "2. Use the resampled data to train a logistic regression model.\n",
        "3. Calculate the balanced accuracy score from sklearn.metrics.\n",
        "4. Print the confusion matrix from sklearn.metrics.\n",
        "5. Generate a classication report using the imbalanced_classification_report from imbalanced-learn.\n",
        "\n",
        "Note: Use a random state of 1 for each sampling algorithm to ensure consistency between tests"
      ]
    },
    {
      "cell_type": "code",
      "metadata": {
        "colab": {
          "background_save": true
        },
        "id": "W4Th7CbH7zRV",
        "outputId": "3d83717b-c8d8-48fb-ded0-6db4d92f6ae0"
      },
      "source": [
        "# Resample the data using the ClusterCentroids resampler\n",
        "from imblearn.under_sampling import ClusterCentroids\n",
        "cluster = ClusterCentroids(random_state=1)\n",
        "X_resampled, y_resampled = cluster.fit_resample(X_train, y_train)\n",
        "\n",
        "Counter(y_resampled)"
      ],
      "execution_count": null,
      "outputs": [
        {
          "output_type": "execute_result",
          "data": {
            "text/plain": [
              "Counter({'high_risk': 260, 'low_risk': 260})"
            ]
          },
          "metadata": {
            "tags": []
          },
          "execution_count": 0
        }
      ]
    },
    {
      "cell_type": "code",
      "metadata": {
        "colab": {
          "base_uri": "https://localhost:8080/"
        },
        "id": "MrN0c9NS70Wh",
        "outputId": "d01d9568-39a0-4ec7-cfc8-4fe54ca15380"
      },
      "source": [
        "# Train the Logistic Regression model using the resampled data\n",
        "model = LogisticRegression(solver='lbfgs', random_state=1)\n",
        "model.fit(X_resampled, y_resampled)"
      ],
      "execution_count": null,
      "outputs": [
        {
          "output_type": "execute_result",
          "data": {
            "text/plain": [
              "LogisticRegression(C=1.0, class_weight=None, dual=False, fit_intercept=True,\n",
              "                   intercept_scaling=1, l1_ratio=None, max_iter=100,\n",
              "                   multi_class='auto', n_jobs=None, penalty='l2',\n",
              "                   random_state=1, solver='lbfgs', tol=0.0001, verbose=0,\n",
              "                   warm_start=False)"
            ]
          },
          "metadata": {
            "tags": []
          },
          "execution_count": 22
        }
      ]
    },
    {
      "cell_type": "code",
      "metadata": {
        "colab": {
          "base_uri": "https://localhost:8080/"
        },
        "id": "1pl3uOjz71lD",
        "outputId": "d36f44c7-66ed-434b-880f-5690b5ca89ff"
      },
      "source": [
        "# Calculated the balanced accuracy score\n",
        "y_pred = model.predict(X_test)\n",
        "accuracy_score(y_test, y_pred)"
      ],
      "execution_count": null,
      "outputs": [
        {
          "output_type": "execute_result",
          "data": {
            "text/plain": [
              "0.4224353385643708"
            ]
          },
          "metadata": {
            "tags": []
          },
          "execution_count": 23
        }
      ]
    },
    {
      "cell_type": "code",
      "metadata": {
        "colab": {
          "base_uri": "https://localhost:8080/"
        },
        "id": "RugOgist72qJ",
        "outputId": "a2da5e3d-11c2-44af-cb40-30023c464b37"
      },
      "source": [
        "# Display the confusion matrix\n",
        "confusion_matrix(y_test, y_pred)"
      ],
      "execution_count": null,
      "outputs": [
        {
          "output_type": "execute_result",
          "data": {
            "text/plain": [
              "array([[  54,   33],\n",
              "       [9904, 7214]])"
            ]
          },
          "metadata": {
            "tags": []
          },
          "execution_count": 24
        }
      ]
    },
    {
      "cell_type": "code",
      "metadata": {
        "colab": {
          "base_uri": "https://localhost:8080/"
        },
        "id": "82_jXSlL736X",
        "outputId": "f16543c3-8932-4168-b102-cd73f4a6ce0b"
      },
      "source": [
        "# Print the imbalanced classification report\n",
        "print(classification_report_imbalanced(y_test, y_pred))"
      ],
      "execution_count": null,
      "outputs": [
        {
          "output_type": "stream",
          "text": [
            "                   pre       rec       spe        f1       geo       iba       sup\n",
            "\n",
            "  high_risk       0.01      0.62      0.42      0.01      0.51      0.27        87\n",
            "   low_risk       1.00      0.42      0.62      0.59      0.51      0.26     17118\n",
            "\n",
            "avg / total       0.99      0.42      0.62      0.59      0.51      0.26     17205\n",
            "\n"
          ],
          "name": "stdout"
        }
      ]
    },
    {
      "cell_type": "markdown",
      "metadata": {
        "id": "91CMGLt3RZLR"
      },
      "source": [
        "**Combination (Over and Under) Sampling**\n",
        "\n",
        "In this section, you will test a combination over- and under-sampling algorithm to determine if the algorithm results in the best performance compared to the other sampling algorithms above. You will resample the data using the SMOTEENN algorithm and complete the folliowing steps:\n",
        "\n",
        "1. View the count of the target classes using Counter from the collections library.\n",
        "2. Use the resampled data to train a logistic regression model.\n",
        "3. Calculate the balanced accuracy score from sklearn.metrics.\n",
        "4. Print the confusion matrix from sklearn.metrics.\n",
        "5. Generate a classication report using the imbalanced_classification_report from imbalanced-learn.\n",
        "\n",
        "Note: Use a random state of 1 for each sampling algorithm to ensure consistency between tests"
      ]
    },
    {
      "cell_type": "code",
      "metadata": {
        "colab": {
          "base_uri": "https://localhost:8080/"
        },
        "id": "LWEpl47E75KE",
        "outputId": "480512eb-8b94-4466-b271-65bf41f7b4bd"
      },
      "source": [
        "# Resample the training data with SMOTEENN\n",
        "from imblearn.combine import SMOTEENN\n",
        "smoteenn = SMOTEENN(random_state=1)\n",
        "X_resampled, y_resampled = smoteenn.fit_resample(X_train, y_train)\n",
        "\n",
        "Counter(y_resampled)"
      ],
      "execution_count": null,
      "outputs": [
        {
          "output_type": "execute_result",
          "data": {
            "text/plain": [
              "Counter({'high_risk': 51351, 'low_risk': 46389})"
            ]
          },
          "metadata": {
            "tags": []
          },
          "execution_count": 26
        }
      ]
    },
    {
      "cell_type": "code",
      "metadata": {
        "colab": {
          "base_uri": "https://localhost:8080/"
        },
        "id": "yliCtK5D76Qm",
        "outputId": "ea75070e-ba63-4273-f16d-c649eb87dca0"
      },
      "source": [
        "# Train the Logistic Regression model using the resampled data\n",
        "model = LogisticRegression(solver='lbfgs', random_state=1)\n",
        "model.fit(X_resampled, y_resampled)"
      ],
      "execution_count": null,
      "outputs": [
        {
          "output_type": "execute_result",
          "data": {
            "text/plain": [
              "LogisticRegression(C=1.0, class_weight=None, dual=False, fit_intercept=True,\n",
              "                   intercept_scaling=1, l1_ratio=None, max_iter=100,\n",
              "                   multi_class='auto', n_jobs=None, penalty='l2',\n",
              "                   random_state=1, solver='lbfgs', tol=0.0001, verbose=0,\n",
              "                   warm_start=False)"
            ]
          },
          "metadata": {
            "tags": []
          },
          "execution_count": 27
        }
      ]
    },
    {
      "cell_type": "code",
      "metadata": {
        "colab": {
          "base_uri": "https://localhost:8080/"
        },
        "id": "1V2uLa3977TD",
        "outputId": "3809befc-9795-4e8b-f8e5-a06b565f1127"
      },
      "source": [
        "# Calculated the balanced accuracy score\n",
        "y_pred = model.predict(X_test)\n",
        "accuracy_score(y_test, y_pred)"
      ],
      "execution_count": null,
      "outputs": [
        {
          "output_type": "execute_result",
          "data": {
            "text/plain": [
              "0.5462946817785528"
            ]
          },
          "metadata": {
            "tags": []
          },
          "execution_count": 28
        }
      ]
    },
    {
      "cell_type": "code",
      "metadata": {
        "colab": {
          "base_uri": "https://localhost:8080/"
        },
        "id": "hdW1SI8Y78uC",
        "outputId": "443319c1-b4b2-400d-e19c-17e92d27de05"
      },
      "source": [
        "# Display the confusion matrix\n",
        "confusion_matrix(y_test, y_pred)"
      ],
      "execution_count": null,
      "outputs": [
        {
          "output_type": "execute_result",
          "data": {
            "text/plain": [
              "array([[  61,   26],\n",
              "       [7780, 9338]])"
            ]
          },
          "metadata": {
            "tags": []
          },
          "execution_count": 29
        }
      ]
    },
    {
      "cell_type": "code",
      "metadata": {
        "colab": {
          "base_uri": "https://localhost:8080/"
        },
        "id": "TijyfEHN79lw",
        "outputId": "b04be054-4365-4010-d2c8-9b75e8ccd011"
      },
      "source": [
        "# Print the imbalanced classification report\n",
        "print(classification_report_imbalanced(y_test, y_pred))"
      ],
      "execution_count": null,
      "outputs": [
        {
          "output_type": "stream",
          "text": [
            "                   pre       rec       spe        f1       geo       iba       sup\n",
            "\n",
            "  high_risk       0.01      0.70      0.55      0.02      0.62      0.39        87\n",
            "   low_risk       1.00      0.55      0.70      0.71      0.62      0.38     17118\n",
            "\n",
            "avg / total       0.99      0.55      0.70      0.70      0.62      0.38     17205\n",
            "\n"
          ],
          "name": "stdout"
        }
      ]
    },
    {
      "cell_type": "code",
      "metadata": {
        "colab": {
          "base_uri": "https://localhost:8080/"
        },
        "id": "_O-84qBb7-1-",
        "outputId": "52ea7e8e-fac7-4c10-cc8c-3c21e5ac5f6b"
      },
      "source": [
        "# Print the imbalanced classification report\n",
        "print(classification_report_imbalanced(y_test, y_pred))"
      ],
      "execution_count": null,
      "outputs": [
        {
          "output_type": "stream",
          "text": [
            "                   pre       rec       spe        f1       geo       iba       sup\n",
            "\n",
            "  high_risk       0.01      0.70      0.55      0.02      0.62      0.39        87\n",
            "   low_risk       1.00      0.55      0.70      0.71      0.62      0.38     17118\n",
            "\n",
            "avg / total       0.99      0.55      0.70      0.70      0.62      0.38     17205\n",
            "\n"
          ],
          "name": "stdout"
        }
      ]
    }
  ]
}